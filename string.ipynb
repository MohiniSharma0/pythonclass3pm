{
 "cells": [
  {
   "cell_type": "code",
   "execution_count": 1,
   "id": "cec797b8",
   "metadata": {},
   "outputs": [
    {
     "name": "stdout",
     "output_type": "stream",
     "text": [
      "hello \n"
     ]
    }
   ],
   "source": [
    "a=\"hello world\"\n",
    "print(a[0:6])"
   ]
  },
  {
   "cell_type": "code",
   "execution_count": 7,
   "id": "d817f8b6",
   "metadata": {},
   "outputs": [
    {
     "name": "stdout",
     "output_type": "stream",
     "text": [
      "dlrow olleh\n"
     ]
    }
   ],
   "source": [
    "a=\"hello world\"\n",
    "l=len(a)\n",
    "print(a[l::-1])"
   ]
  },
  {
   "cell_type": "code",
   "execution_count": 14,
   "id": "2bee9e3f",
   "metadata": {},
   "outputs": [
    {
     "name": "stdout",
     "output_type": "stream",
     "text": [
      "H\n",
      "e\n",
      "l\n",
      "l\n",
      "o\n",
      " \n",
      "W\n",
      "o\n",
      "r\n",
      "l\n",
      "d\n"
     ]
    }
   ],
   "source": [
    "a=\"Hello World\"\n",
    "l=len(a)\n",
    "for i in range(l):\n",
    "    print(a[i])"
   ]
  },
  {
   "cell_type": "code",
   "execution_count": 15,
   "id": "5704554a",
   "metadata": {},
   "outputs": [
    {
     "name": "stdout",
     "output_type": "stream",
     "text": [
      "Enter n =2\n",
      "Enter name=a\n",
      "Enter phone=876543\n",
      "Enter name=r\n",
      "Enter phone=455\n",
      "a 876543\n",
      "r 455\n",
      "\n"
     ]
    }
   ],
   "source": [
    "# String formatting\n",
    "s=\"\"\n",
    "n=int(input(\"Enter n =\"))\n",
    "for i in range(n):\n",
    "    name=(input(\"Enter name=\"))\n",
    "    phone= int(input(\"Enter phone=\"))\n",
    "    info= f\"{name} {phone}\\n\"\n",
    "    s=s+info\n",
    "    \n",
    "print(s)"
   ]
  },
  {
   "cell_type": "code",
   "execution_count": 26,
   "id": "42bbc2cc",
   "metadata": {},
   "outputs": [
    {
     "name": "stdout",
     "output_type": "stream",
     "text": [
      "Enter name=Mohini\n",
      "Enter phone=9878998890\n",
      "Hello world I am Mohini. My phone no is 9878998890\n"
     ]
    }
   ],
   "source": [
    "name=(input(\"Enter name=\"))\n",
    "phone= int(input(\"Enter phone=\"))\n",
    "info=f\"Hello world I am {name}. My phone no is {phone}\"\n",
    "print(info)"
   ]
  },
  {
   "cell_type": "code",
   "execution_count": 36,
   "id": "c8e70e64",
   "metadata": {},
   "outputs": [
    {
     "name": "stdout",
     "output_type": "stream",
     "text": [
      "Mohini\n"
     ]
    }
   ],
   "source": [
    "# replace()\n",
    "# search()\n",
    "# uppercase\n",
    "# lowercase\n",
    "n=\"mohini\"\n",
    "no=n[0].upper()+n[1:]\n",
    "print(no)"
   ]
  },
  {
   "cell_type": "markdown",
   "id": "f3b2e64d",
   "metadata": {},
   "source": []
  },
  {
   "cell_type": "code",
   "execution_count": 31,
   "id": "ff2eb118",
   "metadata": {},
   "outputs": [
    {
     "name": "stdout",
     "output_type": "stream",
     "text": [
      "Enter name=Sita\n",
      "Yes 2\n"
     ]
    }
   ],
   "source": [
    "a=\"Ram,Hari,Gita,Sita,Sita\"\n",
    "name=(input(\"Enter name=\"))\n",
    "if name in a:\n",
    "    print(\"Yes\",a.count(name))\n",
    "else:\n",
    "    print(\"No\")"
   ]
  },
  {
   "cell_type": "code",
   "execution_count": 35,
   "id": "c3ad3322",
   "metadata": {},
   "outputs": [
    {
     "name": "stdout",
     "output_type": "stream",
     "text": [
      "Enter name=ram\n",
      "Yes 1\n"
     ]
    }
   ],
   "source": [
    "a=\"Ram,Hari,Gita,Sita,Sita\"\n",
    "a_lowercase=a.lower()\n",
    "name=(input(\"Enter name=\"))\n",
    "name_lowercase=name.lower()\n",
    "if name_lowercase in a_lowercase:\n",
    "    print(\"Yes\",a_lowercase.count(name_lowercase))\n",
    "else:\n",
    "    print(\"NO\")"
   ]
  },
  {
   "cell_type": "code",
   "execution_count": 39,
   "id": "f78541cf",
   "metadata": {},
   "outputs": [
    {
     "data": {
      "text/plain": [
       "'ram,Hari,Gita,Sita,Sita'"
      ]
     },
     "execution_count": 39,
     "metadata": {},
     "output_type": "execute_result"
    }
   ],
   "source": [
    "a='Ram,Hari,Gita,Sita,Sita'\n",
    "a.replace(\"Ram\",\"ram\")"
   ]
  },
  {
   "cell_type": "code",
   "execution_count": 38,
   "id": "a995d2ee",
   "metadata": {},
   "outputs": [
    {
     "data": {
      "text/plain": [
       "' ,Hari,Gita,Sita,Sita'"
      ]
     },
     "execution_count": 38,
     "metadata": {},
     "output_type": "execute_result"
    }
   ],
   "source": [
    "a=\"Ram,Hari,Gita,Sita,Sita\"\n",
    "a.replace(\"Ram\",\" \")"
   ]
  },
  {
   "cell_type": "code",
   "execution_count": 40,
   "id": "683092f2",
   "metadata": {},
   "outputs": [
    {
     "name": "stdout",
     "output_type": "stream",
     "text": [
      "Enter n =2\n",
      "Enter name=moon\n",
      "Enter phone=98765456\n",
      "Enter name=mohini\n",
      "Enter phone=9876543\n",
      "moon 98765456\n",
      "mohini 9876543\n",
      "\n"
     ]
    },
    {
     "data": {
      "text/plain": [
       "['moon 98765456', 'mohini 9876543', '']"
      ]
     },
     "execution_count": 40,
     "metadata": {},
     "output_type": "execute_result"
    }
   ],
   "source": [
    "# String formatting\n",
    "s=\"\"\n",
    "n=int(input(\"Enter n =\"))\n",
    "for i in range(n):\n",
    "    name=(input(\"Enter name=\"))\n",
    "    phone= int(input(\"Enter phone=\"))\n",
    "    info= f\"{name} {phone}\\n\"\n",
    "    s=s+info\n",
    "    \n",
    "print(s)\n",
    "x= s.split('\\n')"
   ]
  },
  {
   "cell_type": "code",
   "execution_count": 41,
   "id": "53c875b2",
   "metadata": {},
   "outputs": [
    {
     "ename": "NameError",
     "evalue": "name 'x' is not defined",
     "output_type": "error",
     "traceback": [
      "\u001b[1;31m---------------------------------------------------------------------------\u001b[0m",
      "\u001b[1;31mNameError\u001b[0m                                 Traceback (most recent call last)",
      "\u001b[1;32m~\\AppData\\Local\\Temp/ipykernel_27576/3629782281.py\u001b[0m in \u001b[0;36m<module>\u001b[1;34m\u001b[0m\n\u001b[1;32m----> 1\u001b[1;33m \u001b[0mx\u001b[0m\u001b[1;33m[\u001b[0m\u001b[1;36m0\u001b[0m\u001b[1;33m]\u001b[0m\u001b[1;33m\u001b[0m\u001b[1;33m\u001b[0m\u001b[0m\n\u001b[0m",
      "\u001b[1;31mNameError\u001b[0m: name 'x' is not defined"
     ]
    }
   ],
   "source": [
    "x[0]"
   ]
  },
  {
   "cell_type": "code",
   "execution_count": 1,
   "id": "5dc8a0a5",
   "metadata": {},
   "outputs": [
    {
     "name": "stdout",
     "output_type": "stream",
     "text": [
      "MohiniSharma\n"
     ]
    }
   ],
   "source": [
    "a=\"Mohini\"\n",
    "a=a+\"Sharma\"\n",
    "print(a)"
   ]
  },
  {
   "cell_type": "code",
   "execution_count": null,
   "id": "67c931d2",
   "metadata": {},
   "outputs": [],
   "source": [
    "\n",
    "\n"
   ]
  },
  {
   "cell_type": "code",
   "execution_count": null,
   "id": "8580817b",
   "metadata": {},
   "outputs": [],
   "source": [
    "\n"
   ]
  },
  {
   "cell_type": "code",
   "execution_count": null,
   "id": "5f8b7359",
   "metadata": {},
   "outputs": [],
   "source": []
  },
  {
   "cell_type": "code",
   "execution_count": null,
   "id": "48bc68d9",
   "metadata": {},
   "outputs": [],
   "source": []
  }
 ],
 "metadata": {
  "kernelspec": {
   "display_name": "Python 3 (ipykernel)",
   "language": "python",
   "name": "python3"
  },
  "language_info": {
   "codemirror_mode": {
    "name": "ipython",
    "version": 3
   },
   "file_extension": ".py",
   "mimetype": "text/x-python",
   "name": "python",
   "nbconvert_exporter": "python",
   "pygments_lexer": "ipython3",
   "version": "3.9.7"
  }
 },
 "nbformat": 4,
 "nbformat_minor": 5
}
