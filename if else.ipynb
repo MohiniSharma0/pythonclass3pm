{
 "cells": [
  {
   "cell_type": "markdown",
   "id": "ae932f14",
   "metadata": {},
   "source": [
    "3+4==4+3"
   ]
  },
  {
   "cell_type": "code",
   "execution_count": 4,
   "id": "70113584",
   "metadata": {},
   "outputs": [
    {
     "data": {
      "text/plain": [
       "False"
      ]
     },
     "execution_count": 4,
     "metadata": {},
     "output_type": "execute_result"
    }
   ],
   "source": []
  },
  {
   "cell_type": "code",
   "execution_count": null,
   "id": "38c4ff9a",
   "metadata": {},
   "outputs": [],
   "source": []
  },
  {
   "cell_type": "code",
   "execution_count": null,
   "id": "89450d1a",
   "metadata": {},
   "outputs": [],
   "source": []
  },
  {
   "cell_type": "code",
   "execution_count": null,
   "id": "4cda8dd4",
   "metadata": {},
   "outputs": [],
   "source": [
    "#if<condition>:\n",
    "#   <operation>\n",
    "#elif<condition>:\n",
    " #   <operation>\n",
    "#else:\n",
    "#    <operation>\n"
   ]
  },
  {
   "cell_type": "code",
   "execution_count": null,
   "id": "cee649ea",
   "metadata": {},
   "outputs": [],
   "source": [
    "#WAP to calculate GPA of a student"
   ]
  },
  {
   "cell_type": "code",
   "execution_count": 5,
   "id": "47a4b53e",
   "metadata": {},
   "outputs": [
    {
     "name": "stdout",
     "output_type": "stream",
     "text": [
      "Enter marks of maths: 40\n",
      "Enter marks of science: 60\n",
      "Enter marks of nepali: 89\n",
      "Enter marks of english: 70\n",
      "64.75\n",
      "GPA=2.0\n"
     ]
    }
   ],
   "source": [
    "m= int(input(\"Enter marks of maths: \"))\n",
    "s=int(input(\"Enter marks of science: \"))\n",
    "n=int(input(\"Enter marks of nepali: \"))\n",
    "e=int(input(\"Enter marks of english: \"))\n",
    "total = m+s+n+e\n",
    "Percentage = total/4\n",
    "print(Percentage)\n",
    "if(Percentage==100):\n",
    "    print(\"GPA=4.0\")\n",
    "elif(Percentage>=90):\n",
    "    print(\"GPA=3.6\")\n",
    "elif(Percentage>=80):\n",
    "    print(\"GPA=3.2\")\n",
    "elif(Percentage>=70):\n",
    "    print(\"GPA=2.8\")\n",
    "elif(Percentage>=60):\n",
    "    print(\"GPA=2.0\")\n",
    "else:\n",
    "       \n",
    "    print(\"GPA=1.5\")"
   ]
  },
  {
   "cell_type": "markdown",
   "id": "f25eaaa8",
   "metadata": {},
   "source": []
  }
 ],
 "metadata": {
  "kernelspec": {
   "display_name": "Python 3 (ipykernel)",
   "language": "python",
   "name": "python3"
  },
  "language_info": {
   "codemirror_mode": {
    "name": "ipython",
    "version": 3
   },
   "file_extension": ".py",
   "mimetype": "text/x-python",
   "name": "python",
   "nbconvert_exporter": "python",
   "pygments_lexer": "ipython3",
   "version": "3.9.7"
  }
 },
 "nbformat": 4,
 "nbformat_minor": 5
}
