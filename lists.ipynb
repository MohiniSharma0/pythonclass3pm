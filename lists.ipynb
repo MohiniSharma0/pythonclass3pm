{
 "cells": [
  {
   "cell_type": "code",
   "execution_count": null,
   "id": "e2ed36b2",
   "metadata": {},
   "outputs": [],
   "source": [
    "# List(Indexed,ordered,mutable,duplicate value,multiple)\n",
    "# TUpule\n",
    "# Dictionary\n",
    "# set\n"
   ]
  },
  {
   "cell_type": "code",
   "execution_count": 2,
   "id": "e7fdd2e6",
   "metadata": {},
   "outputs": [
    {
     "name": "stdout",
     "output_type": "stream",
     "text": [
      "<class 'list'>\n"
     ]
    }
   ],
   "source": [
    "l = list()\n",
    "lis=[]\n",
    "print(type(l))"
   ]
  },
  {
   "cell_type": "code",
   "execution_count": 5,
   "id": "e8935602",
   "metadata": {},
   "outputs": [
    {
     "name": "stdout",
     "output_type": "stream",
     "text": [
      "[1, 2, 3, 4, 4, 5, 6]\n"
     ]
    }
   ],
   "source": [
    "data=[1,2,3,4,4,5,6]\n",
    "type(data)\n",
    "print(data)"
   ]
  },
  {
   "cell_type": "code",
   "execution_count": 10,
   "id": "7a1810e2",
   "metadata": {},
   "outputs": [
    {
     "name": "stdout",
     "output_type": "stream",
     "text": [
      "['Aple', 'Mango', 'Kiwi', 'Banana', 'Book', 'Copy']\n"
     ]
    }
   ],
   "source": [
    "data=[\"Aple\",\"Mango\",\"Kiwi\",\"Banana\"]\n",
    "datas=[\"Book\",\"Copy\"]\n",
    "data[-1]\n",
    "print(data+datas)"
   ]
  },
  {
   "cell_type": "code",
   "execution_count": 11,
   "id": "e90495f5",
   "metadata": {},
   "outputs": [
    {
     "name": "stdout",
     "output_type": "stream",
     "text": [
      "[1, 2, 3, 4, 1, 2, 3, 4, 1, 2, 3, 4]\n"
     ]
    }
   ],
   "source": [
    "a=[1,2,3,4]\n",
    "print(a*3)"
   ]
  },
  {
   "cell_type": "code",
   "execution_count": 16,
   "id": "d6c117be",
   "metadata": {},
   "outputs": [
    {
     "name": "stdout",
     "output_type": "stream",
     "text": [
      "['Aple', 'Mango', 'Kiwi', 'Banana', \"'\", 'B', 'o', 'o', 'k', \"'\", ',', \"'\", 'c', 'o', 'p', 'y', \"'\"]\n"
     ]
    }
   ],
   "source": [
    "data=[\"Aple\",\"Mango\",\"Kiwi\",\"Banana\"]\n",
    "datas= list(\"'Book','copy'\")\n",
    "\n",
    "print(data+datas)"
   ]
  },
  {
   "cell_type": "code",
   "execution_count": 15,
   "id": "018d054d",
   "metadata": {},
   "outputs": [
    {
     "data": {
      "text/plain": [
       "['apple', 'Mango', 'Kiwi', 'Banana']"
      ]
     },
     "execution_count": 15,
     "metadata": {},
     "output_type": "execute_result"
    }
   ],
   "source": [
    "data=[\"Aple\",\"Mango\",\"Kiwi\",\"Banana\"]\n",
    "data[0]='apple'\n",
    "data"
   ]
  },
  {
   "cell_type": "code",
   "execution_count": 17,
   "id": "15a1faa4",
   "metadata": {},
   "outputs": [
    {
     "data": {
      "text/plain": [
       "[1, 2]"
      ]
     },
     "execution_count": 17,
     "metadata": {},
     "output_type": "execute_result"
    }
   ],
   "source": [
    "data=[1,2,3,4,4,5,6]\n",
    "data[0:2]"
   ]
  },
  {
   "cell_type": "code",
   "execution_count": 18,
   "id": "beea3b6e",
   "metadata": {},
   "outputs": [
    {
     "data": {
      "text/plain": [
       "[1, 3, 4]"
      ]
     },
     "execution_count": 18,
     "metadata": {},
     "output_type": "execute_result"
    }
   ],
   "source": [
    "data=[1,2,3,4,4,5,6]\n",
    "data[0:5:2]"
   ]
  },
  {
   "cell_type": "code",
   "execution_count": 20,
   "id": "665c909a",
   "metadata": {},
   "outputs": [
    {
     "name": "stdout",
     "output_type": "stream",
     "text": [
      "Enter n= 3\n",
      "Enter x= mohiin\n",
      "Enter x= moon\n",
      "Enter x= moo\n",
      "['mohiin', 'moon', 'moo']\n"
     ]
    }
   ],
   "source": [
    "data=list()\n",
    "n=int(input(\"Enter n= \"))\n",
    "for i in range(n):\n",
    "    x= input(\"Enter x= \")\n",
    "    data= data+[x]\n",
    "print(data)    "
   ]
  },
  {
   "cell_type": "code",
   "execution_count": 21,
   "id": "c3ffb02d",
   "metadata": {},
   "outputs": [
    {
     "name": "stdout",
     "output_type": "stream",
     "text": [
      "Aple\n",
      "Mango\n",
      "Kiwi\n",
      "Banana\n"
     ]
    }
   ],
   "source": [
    "data=[\"Aple\",\"Mango\",\"Kiwi\",\"Banana\"]\n",
    "for i in data:\n",
    "    print(i)"
   ]
  },
  {
   "cell_type": "code",
   "execution_count": 27,
   "id": "ab351b36",
   "metadata": {},
   "outputs": [
    {
     "name": "stdout",
     "output_type": "stream",
     "text": [
      "Aple\n",
      "Mango\n",
      "Banana\n"
     ]
    }
   ],
   "source": [
    "data=[\"Aple\",\"Mango\",\"Kiwi\",\"Banana\"]\n",
    "for i in data:\n",
    "    if i == \"Kiwi\":\n",
    "         continue\n",
    "    print(i)"
   ]
  },
  {
   "cell_type": "code",
   "execution_count": 5,
   "id": "8b348a5b",
   "metadata": {},
   "outputs": [
    {
     "name": "stdout",
     "output_type": "stream",
     "text": [
      "Enter n= 4\n",
      "Enter x= 3\n",
      "Enter x= 52\n",
      "Enter x= 5\n",
      "Enter x= 2\n",
      "[3, 52, 5, 2]\n",
      "[2, 3, 5, 52]\n",
      "[52, 5, 3, 2]\n"
     ]
    }
   ],
   "source": [
    "data=list()\n",
    "n=int(input(\"Enter n= \"))\n",
    "for i in range(n):\n",
    "    x= int(input(\"Enter x= \"))\n",
    "    data= data+[x]\n",
    "print(data)   \n",
    "data.sort()\n",
    "print(data)\n",
    "data.reverse()\n",
    "print(data)"
   ]
  },
  {
   "cell_type": "code",
   "execution_count": 32,
   "id": "6246aed2",
   "metadata": {},
   "outputs": [
    {
     "data": {
      "text/plain": [
       "5"
      ]
     },
     "execution_count": 32,
     "metadata": {},
     "output_type": "execute_result"
    }
   ],
   "source": [
    "min(data)"
   ]
  },
  {
   "cell_type": "code",
   "execution_count": 33,
   "id": "e8034447",
   "metadata": {},
   "outputs": [
    {
     "data": {
      "text/plain": [
       "33"
      ]
     },
     "execution_count": 33,
     "metadata": {},
     "output_type": "execute_result"
    }
   ],
   "source": [
    "max(data)"
   ]
  },
  {
   "cell_type": "code",
   "execution_count": 34,
   "id": "7d1c33a5",
   "metadata": {},
   "outputs": [
    {
     "data": {
      "text/plain": [
       "74"
      ]
     },
     "execution_count": 34,
     "metadata": {},
     "output_type": "execute_result"
    }
   ],
   "source": [
    "sum(data)"
   ]
  },
  {
   "cell_type": "code",
   "execution_count": 9,
   "id": "a8d9fef8",
   "metadata": {},
   "outputs": [
    {
     "name": "stdout",
     "output_type": "stream",
     "text": [
      "['1', 'apple', 'ball', 'fish', 'zebra']\n"
     ]
    }
   ],
   "source": [
    "data=[\"apple\",\"zebra\",\"ball\",\"fish\",\"1\"]#suruma integer ki tw special char ani capital ani small\n",
    "data.sort()\n",
    "print(data)"
   ]
  },
  {
   "cell_type": "code",
   "execution_count": 13,
   "id": "9b0fc805",
   "metadata": {},
   "outputs": [
    {
     "name": "stdout",
     "output_type": "stream",
     "text": [
      "6\n",
      "2\n"
     ]
    }
   ],
   "source": [
    "data=[\"apple\",\"zebra\",\"ball\",\"fish\",\"1\",\"ball\"]\n",
    "print(len(data))\n",
    "print(data.count(\"ball\"))"
   ]
  },
  {
   "cell_type": "code",
   "execution_count": 19,
   "id": "435cd58d",
   "metadata": {},
   "outputs": [
    {
     "name": "stdout",
     "output_type": "stream",
     "text": [
      "apple\n",
      "zebra\n",
      "ball\n",
      "fish\n",
      "1\n",
      "ball\n"
     ]
    }
   ],
   "source": [
    "for i in range(len(data)):\n",
    "    print(data[i])"
   ]
  },
  {
   "cell_type": "code",
   "execution_count": 10,
   "id": "25807e77",
   "metadata": {},
   "outputs": [
    {
     "name": "stdout",
     "output_type": "stream",
     "text": [
      "2\n",
      "5\n"
     ]
    }
   ],
   "source": [
    "data=[\"apple\",\"zebra\",\"ball\",\"fish\",\"1\",\"ball\"]\n",
    "for i in range(len(data)):\n",
    "    if data[i]==\"ball\":\n",
    "         print(i)"
   ]
  },
  {
   "cell_type": "code",
   "execution_count": null,
   "id": "f8218106",
   "metadata": {},
   "outputs": [],
   "source": [
    "# # Crud operation in list\n",
    "# # append()\n",
    "# # exchange()\n",
    "# # insert()\n",
    "# del\n",
    "# remove\n",
    "# pop"
   ]
  },
  {
   "cell_type": "code",
   "execution_count": 11,
   "id": "317babc3",
   "metadata": {},
   "outputs": [
    {
     "name": "stdout",
     "output_type": "stream",
     "text": [
      "['Ram', 'Shyam', 'Hari', 'Gita', 'Sita', 'Sabin']\n"
     ]
    }
   ],
   "source": [
    "a=[\"Ram\",\"Shyam\",\"Hari\",\"Gita\",\"Sita\"]\n",
    "a.append(\"Sabin\")\n",
    "print(a)"
   ]
  },
  {
   "cell_type": "code",
   "execution_count": 13,
   "id": "689be431",
   "metadata": {},
   "outputs": [
    {
     "name": "stdout",
     "output_type": "stream",
     "text": [
      "['Ram', 'Shyam', 'Hari', 'Gita', 'Sita', 'Nabin', 'Roshan']\n"
     ]
    }
   ],
   "source": [
    "a=[\"Ram\",\"Shyam\",\"Hari\",\"Gita\",\"Sita\"]\n",
    "b=[\"Nabin\",\"Roshan\"]\n",
    "a.extend(b)\n",
    "print(a)"
   ]
  },
  {
   "cell_type": "code",
   "execution_count": 15,
   "id": "8e0e1347",
   "metadata": {},
   "outputs": [
    {
     "name": "stdout",
     "output_type": "stream",
     "text": [
      "['Ram', 'Shyam', 'Ronish', 'Hari', 'Gita', 'Sita']\n"
     ]
    }
   ],
   "source": [
    "a=[\"Ram\",\"Shyam\",\"Hari\",\"Gita\",\"Sita\"]\n",
    "a.insert(2,\"Ronish\")\n",
    "print(a)"
   ]
  },
  {
   "cell_type": "code",
   "execution_count": 17,
   "id": "9236deb8",
   "metadata": {},
   "outputs": [
    {
     "name": "stdout",
     "output_type": "stream",
     "text": [
      "Enter n= 2\n",
      "Enter x= 67\n",
      "Enter x= 78\n",
      "[67, 78]\n"
     ]
    }
   ],
   "source": [
    "data=list()\n",
    "n=int(input(\"Enter n= \"))\n",
    "for i in range(n):\n",
    "    x= int(input(\"Enter x= \"))\n",
    "    data.append(x)\n",
    "print(data)    "
   ]
  },
  {
   "cell_type": "code",
   "execution_count": null,
   "id": "ee885231",
   "metadata": {},
   "outputs": [],
   "source": []
  },
  {
   "cell_type": "code",
   "execution_count": null,
   "id": "e5c156a1",
   "metadata": {},
   "outputs": [],
   "source": []
  },
  {
   "cell_type": "code",
   "execution_count": null,
   "id": "b4768b8f",
   "metadata": {},
   "outputs": [],
   "source": []
  },
  {
   "cell_type": "code",
   "execution_count": 19,
   "id": "15b95024",
   "metadata": {},
   "outputs": [
    {
     "name": "stdout",
     "output_type": "stream",
     "text": [
      "['Ram', 'Hari', 'Gita', 'Sita']\n"
     ]
    }
   ],
   "source": [
    "a=[\"Ram\",\"Shyam\",\"Hari\",\"Gita\",\"Sita\"]\n",
    "del a[1]\n",
    "print(a)"
   ]
  },
  {
   "cell_type": "code",
   "execution_count": 21,
   "id": "84115994",
   "metadata": {},
   "outputs": [
    {
     "name": "stdout",
     "output_type": "stream",
     "text": [
      "['Hari', 'Gita', 'Sita']\n"
     ]
    }
   ],
   "source": [
    "a=[\"Ram\",\"Shyam\",\"Hari\",\"Gita\",\"Sita\"] #can delete multiple data\n",
    "del a[0:2]\n",
    "print(a)"
   ]
  },
  {
   "cell_type": "code",
   "execution_count": 22,
   "id": "e8ea7fda",
   "metadata": {},
   "outputs": [
    {
     "name": "stdout",
     "output_type": "stream",
     "text": [
      "['Ram', 'Shyam', 'Hari', 'Gita']\n"
     ]
    }
   ],
   "source": [
    "a=[\"Ram\",\"Shyam\",\"Hari\",\"Gita\",\"Sita\"] #only removes single data\n",
    "a.remove(\"Sita\")\n",
    "print(a)"
   ]
  },
  {
   "cell_type": "code",
   "execution_count": 26,
   "id": "5271254f",
   "metadata": {},
   "outputs": [
    {
     "name": "stdout",
     "output_type": "stream",
     "text": [
      "['Ram', 'Shyam', 'Hari', 'Gita']\n"
     ]
    }
   ],
   "source": [
    "a=[\"Ram\",\"Shyam\",\"Sita\",\"Hari\",\"Gita\",\"Sita\"]\n",
    "for i in a:\n",
    "    if i==\"Sita\": #if i ==name: a.remove(name)\n",
    "        a.remove(\"Sita\")\n",
    "print(a)    "
   ]
  },
  {
   "cell_type": "code",
   "execution_count": 37,
   "id": "fff8d186",
   "metadata": {},
   "outputs": [
    {
     "name": "stdout",
     "output_type": "stream",
     "text": [
      "Enter name Sita\n",
      "['Ram', 'Shyam', 'Hari', 'Gita']\n"
     ]
    }
   ],
   "source": [
    "name=[\"Ram\",\"Shyam\",\"Sita\",\"Hari\",\"Gita\",\"Sita\"] #only removes single data\n",
    "n=input(\"Enter name \")\n",
    "for i in name:\n",
    "    if i ==name:\n",
    "        a.remove(name)\n",
    "       \n",
    "print(a)    \n"
   ]
  },
  {
   "cell_type": "code",
   "execution_count": 36,
   "id": "9f8398b3",
   "metadata": {},
   "outputs": [
    {
     "name": "stdout",
     "output_type": "stream",
     "text": [
      "['Ram', 'Shyam', 'Hari', 'Gita']\n",
      "Sita\n"
     ]
    }
   ],
   "source": [
    "a=[\"Ram\",\"Shyam\",\"Hari\",\"Gita\",\"Sita\"]\n",
    "b= a.pop(4)\n",
    "print(a)\n",
    "print(b)"
   ]
  },
  {
   "cell_type": "code",
   "execution_count": 39,
   "id": "c75f9ba1",
   "metadata": {},
   "outputs": [
    {
     "name": "stdout",
     "output_type": "stream",
     "text": [
      "['Apple 200 3 600', 'Banana 100 2 200']\n",
      "Apple 200 3 600\n"
     ]
    }
   ],
   "source": [
    "a=\"Apple 200 3 600\\nBanana 100 2 200\"\n",
    "b=a.split('\\n')\n",
    "print(b)\n",
    "print(b[0])"
   ]
  },
  {
   "cell_type": "code",
   "execution_count": 43,
   "id": "563ad909",
   "metadata": {},
   "outputs": [
    {
     "name": "stdout",
     "output_type": "stream",
     "text": [
      "[['Apple', 200, 3, 600], ['Banana', 100, 2, 200]]\n"
     ]
    }
   ],
   "source": [
    "a=[[\"Apple\",200,3,600],[\"Banana\", 100, 2, 200]]\n",
    "print(a)"
   ]
  },
  {
   "cell_type": "code",
   "execution_count": 44,
   "id": "ee4512f3",
   "metadata": {},
   "outputs": [
    {
     "name": "stdout",
     "output_type": "stream",
     "text": [
      "['Apple', 200, 3, 600]\n"
     ]
    }
   ],
   "source": [
    "print(a[0])"
   ]
  },
  {
   "cell_type": "code",
   "execution_count": 47,
   "id": "e1d093e9",
   "metadata": {},
   "outputs": [
    {
     "name": "stdout",
     "output_type": "stream",
     "text": [
      "Apple\n"
     ]
    }
   ],
   "source": [
    "print(a[0][0])"
   ]
  },
  {
   "cell_type": "code",
   "execution_count": 49,
   "id": "5952def6",
   "metadata": {},
   "outputs": [
    {
     "name": "stdout",
     "output_type": "stream",
     "text": [
      "600\n"
     ]
    }
   ],
   "source": [
    "print(a[0][3])"
   ]
  },
  {
   "cell_type": "code",
   "execution_count": 50,
   "id": "7a8e87b8",
   "metadata": {},
   "outputs": [
    {
     "name": "stdout",
     "output_type": "stream",
     "text": [
      "Banana\n"
     ]
    }
   ],
   "source": [
    "print(a[1][0])"
   ]
  },
  {
   "cell_type": "code",
   "execution_count": 53,
   "id": "7abb1bff",
   "metadata": {},
   "outputs": [
    {
     "name": "stdout",
     "output_type": "stream",
     "text": [
      "Enter n =2\n",
      "Enter name= rr\n",
      "Enter age= 4\n",
      "Enter add= d\n",
      "Enter name= rr\n",
      "Enter age= 3\n",
      "Enter add= rr\n",
      "[['rr', 4, 'd'], ['rr', 3, 'rr']]\n"
     ]
    }
   ],
   "source": [
    "data=[]\n",
    "n=int(input(\"Enter n =\"))\n",
    "for i in range(n):\n",
    "    name=input(\"Enter name= \")\n",
    "    age=int(input(\"Enter age= \"))\n",
    "    add=(input(\"Enter add= \"))\n",
    "    info=[name,age,add]\n",
    "    data.append(info)\n",
    "print(data)"
   ]
  },
  {
   "cell_type": "code",
   "execution_count": 55,
   "id": "ab1aa3bd",
   "metadata": {},
   "outputs": [
    {
     "name": "stdout",
     "output_type": "stream",
     "text": [
      "Enter n =2\n",
      "Enter name= uy\n",
      "Enter age= 7\n",
      "Enter add= ht\n",
      "Enter name= yy\n",
      "Enter age= 6\n",
      "Enter add= jh\n",
      "[[1, 'uy', 7, 'ht'], [2, 'yy', 6, 'jh']]\n"
     ]
    }
   ],
   "source": [
    "data=[]\n",
    "n=int(input(\"Enter n =\"))\n",
    "for i in range(1,n+1):\n",
    "    name=input(\"Enter name= \")\n",
    "    age=int(input(\"Enter age= \"))\n",
    "    add=(input(\"Enter add= \"))\n",
    "    info=[i,name,age,add]\n",
    "    data.append(info)\n",
    "print(data)"
   ]
  },
  {
   "cell_type": "code",
   "execution_count": 6,
   "id": "819f2042",
   "metadata": {},
   "outputs": [
    {
     "name": "stdout",
     "output_type": "stream",
     "text": [
      "Enter name=Ram\n",
      "[1, 'Ram', 34, 'ktm']\n"
     ]
    }
   ],
   "source": [
    "data=[[1,\"Ram\",34,\"ktm\"],[2,\"Shyam\",34,\"Lalitpur\"]]\n",
    "name = input(\"Enter name=\")\n",
    "for i in data:\n",
    "     if  name in i:\n",
    "       print(i)"
   ]
  },
  {
   "cell_type": "code",
   "execution_count": 1,
   "id": "a6d80e04",
   "metadata": {},
   "outputs": [
    {
     "name": "stdout",
     "output_type": "stream",
     "text": [
      "Enter name=Ram\n",
      "[[2, 'Shyam', 34, 'Lalitpur']]\n"
     ]
    }
   ],
   "source": [
    "data=[[1,\"Ram\",34,\"ktm\"],[2,\"Shyam\",34,\"Lalitpur\"]]\n",
    "name = input(\"Enter name=\")\n",
    "for i in data:\n",
    "     if  name in i:\n",
    "        data.remove(i)\n",
    "print(data)"
   ]
  },
  {
   "cell_type": "code",
   "execution_count": 5,
   "id": "f78de525",
   "metadata": {},
   "outputs": [
    {
     "name": "stdout",
     "output_type": "stream",
     "text": [
      "Enter name=Ram\n",
      "0\n"
     ]
    }
   ],
   "source": [
    "data=[[1,\"Ram\",34,\"ktm\"],[2,\"Shyam\",34,\"Lalitpur\"]]\n",
    "name = input(\"Enter name=\")\n",
    "for i in range(len(data)):\n",
    "     if  name in data[i]:\n",
    "       print(i)"
   ]
  },
  {
   "cell_type": "code",
   "execution_count": 7,
   "id": "5c4248f5",
   "metadata": {},
   "outputs": [
    {
     "name": "stdout",
     "output_type": "stream",
     "text": [
      "[[1, 'Ramu', 34, 'ktm'], [2, 'Shyam', 34, 'Lalitpur']]\n"
     ]
    }
   ],
   "source": [
    "data=[[1,\"Ram\",34,\"ktm\"],[2,\"Shyam\",34,\"Lalitpur\"]]\n",
    "data[0][1]=\"Ramu\"\n",
    "print(data)"
   ]
  },
  {
   "cell_type": "code",
   "execution_count": 10,
   "id": "725d83de",
   "metadata": {},
   "outputs": [
    {
     "name": "stdout",
     "output_type": "stream",
     "text": [
      "[[1, 'Raj', '24', 'Butwal'], [2, 'Shyam', 34, 'Lalitpur']]\n"
     ]
    }
   ],
   "source": [
    "data=[[1,\"Ram\",34,\"ktm\"],[2,\"Shyam\",34,\"Lalitpur\"]]\n",
    "data[0]=[1,\"Raj\",\"24\",\"Butwal\"]\n",
    "print(data)"
   ]
  },
  {
   "cell_type": "code",
   "execution_count": null,
   "id": "fc10d436",
   "metadata": {},
   "outputs": [],
   "source": [
    "# WAP to develop a billing application(CRUD)\n",
    "# WAP to develop result managmnet system\n",
    "# WAP to develop a matrix\n",
    "# ['Apple 200 3 600']\n",
    "# to\n",
    "# [['Apple',200,3,600]]"
   ]
  },
  {
   "cell_type": "code",
   "execution_count": null,
   "id": "403f7277",
   "metadata": {},
   "outputs": [],
   "source": [
    "a=[]\n",
    "c=int(input(\"Enter c= \"))\n",
    "r=int(input(\"Enter r= \")) #split only in string\n",
    "for i in range(r):\n",
    "    b=[]\n",
    "    for j in range(c):\n",
    "        x=int(input(\"Enter x= \"))\n",
    "        b.append(x)\n",
    "    a.append(b)\n",
    "print(a)"
   ]
  },
  {
   "cell_type": "markdown",
   "id": "bb98af2a",
   "metadata": {},
   "source": [
    "data=[[1,\"Ram\",34,\"ktm\"]\n",
    "a[0][1]=int(a[0][1])\n"
   ]
  },
  {
   "cell_type": "code",
   "execution_count": 5,
   "id": "8c45bbb5",
   "metadata": {},
   "outputs": [],
   "source": [
    "# Tuple\n",
    "# Indexed,Ordered,Multiple data,\n",
    "# Duplicate data,Immutable"
   ]
  },
  {
   "cell_type": "code",
   "execution_count": 6,
   "id": "e6750bbe",
   "metadata": {},
   "outputs": [
    {
     "name": "stdout",
     "output_type": "stream",
     "text": [
      "<class 'tuple'>\n"
     ]
    }
   ],
   "source": [
    "a=(1,2,3)\n",
    "print(type(a))"
   ]
  },
  {
   "cell_type": "code",
   "execution_count": 7,
   "id": "7f161fff",
   "metadata": {},
   "outputs": [
    {
     "name": "stdout",
     "output_type": "stream",
     "text": [
      "<class 'tuple'>\n"
     ]
    }
   ],
   "source": [
    "a=(\"Apple\",)\n",
    " print(type(a)) #pachadi , jodne euta ko case ma"
   ]
  },
  {
   "cell_type": "code",
   "execution_count": 9,
   "id": "4211b4e3",
   "metadata": {},
   "outputs": [
    {
     "name": "stdout",
     "output_type": "stream",
     "text": [
      "RamShyam\n"
     ]
    }
   ],
   "source": [
    "a=\"Ram\"\n",
    "a=a+\"Shyam\"\n",
    "print(a)"
   ]
  },
  {
   "cell_type": "code",
   "execution_count": 15,
   "id": "13569b0f",
   "metadata": {},
   "outputs": [
    {
     "name": "stdout",
     "output_type": "stream",
     "text": [
      "['1', 'apple', 'ball', 'fish', 'zebra']\n",
      "('apple', 'zebra', 'ball', 'fish', '1')\n"
     ]
    }
   ],
   "source": [
    "data=(\"apple\",\"zebra\",\"ball\",\"fish\",\"1\")\n",
    "print(sorted(data))\n",
    "print(data)"
   ]
  },
  {
   "cell_type": "code",
   "execution_count": 17,
   "id": "95516a10",
   "metadata": {},
   "outputs": [
    {
     "name": "stdout",
     "output_type": "stream",
     "text": [
      "['apple', 'zebra', 'ball', 'fish', '1']\n"
     ]
    }
   ],
   "source": [
    "data=[\"apple\",\"zebra\",\"ball\",\"fish\",\"1\"]\n",
    "b=list(data)\n",
    "print(b)"
   ]
  },
  {
   "cell_type": "code",
   "execution_count": 22,
   "id": "a02f2f64",
   "metadata": {},
   "outputs": [
    {
     "name": "stdout",
     "output_type": "stream",
     "text": [
      "('apple', 'ball', 'fish', '1')\n"
     ]
    }
   ],
   "source": [
    "data=[\"apple\",\"zebra\",\"ball\",\"fish\",\"1\"]\n",
    "b=list(data)\n",
    "b.remove(\"zebra\")\n",
    "a=tuple(b)\n",
    "print(a)"
   ]
  },
  {
   "cell_type": "code",
   "execution_count": null,
   "id": "da8e961b",
   "metadata": {},
   "outputs": [],
   "source": [
    "# min() max() sum() index() search read"
   ]
  },
  {
   "cell_type": "code",
   "execution_count": 23,
   "id": "b24d9e93",
   "metadata": {},
   "outputs": [
    {
     "data": {
      "text/plain": [
       "0"
      ]
     },
     "execution_count": 23,
     "metadata": {},
     "output_type": "execute_result"
    }
   ],
   "source": [
    "data=[\"apple\",\"zebra\",\"ball\",\"fish\",\"1\"]\n",
    "a.index(\"apple\")"
   ]
  },
  {
   "cell_type": "code",
   "execution_count": 25,
   "id": "cfc23699",
   "metadata": {},
   "outputs": [
    {
     "name": "stdout",
     "output_type": "stream",
     "text": [
      "apple\n",
      "zebra\n",
      "ball\n",
      "fish\n",
      "1\n"
     ]
    }
   ],
   "source": [
    "data=[\"apple\",\"zebra\",\"ball\",\"fish\",\"1\"]\n",
    "for i in data:\n",
    "    print(i)"
   ]
  },
  {
   "cell_type": "code",
   "execution_count": 3,
   "id": "db8260dc",
   "metadata": {},
   "outputs": [],
   "source": [
    "data=[\"apple\",\"zebra\",\"ball\",\"fish\",\"1\"]\n",
    "if \"apple\" in data:\n",
    "    print(\"Yes\")"
   ]
  },
  {
   "cell_type": "code",
   "execution_count": 2,
   "id": "bfd548a6",
   "metadata": {},
   "outputs": [
    {
     "name": "stdout",
     "output_type": "stream",
     "text": [
      "Enter n= 6\n",
      "Enter x= 7\n",
      "Enter x= 6\n",
      "Enter x= 5\n",
      "Enter x= 4\n",
      "Enter x= 3\n",
      "Enter x= 2\n",
      "(7, 6, 5, 4, 3, 2)\n"
     ]
    }
   ],
   "source": [
    "data=()\n",
    "n=int(input(\"Enter n= \"))\n",
    "\n",
    "for i in range(n):\n",
    "    x=int(input(\"Enter x= \"))\n",
    "    data = data+(x,)\n",
    "print(data)"
   ]
  },
  {
   "cell_type": "markdown",
   "id": "39a1d730",
   "metadata": {},
   "source": []
  },
  {
   "cell_type": "code",
   "execution_count": 13,
   "id": "4758687f",
   "metadata": {},
   "outputs": [
    {
     "name": "stdout",
     "output_type": "stream",
     "text": [
      "('Hello', 'World')\n"
     ]
    }
   ],
   "source": [
    "def hello():\n",
    "    return \"Hello\",\"World\"\n",
    "print(hello())"
   ]
  },
  {
   "cell_type": "code",
   "execution_count": 15,
   "id": "b572fc8b",
   "metadata": {},
   "outputs": [
    {
     "name": "stdout",
     "output_type": "stream",
     "text": [
      "Hello World\n"
     ]
    }
   ],
   "source": [
    "def hello(z):\n",
    "    print(z[0],z[1])\n",
    "t=(\"Hello\",\"World\")\n",
    "hello(t)"
   ]
  },
  {
   "cell_type": "code",
   "execution_count": null,
   "id": "e9fdcad1",
   "metadata": {},
   "outputs": [
    {
     "name": "stdout",
     "output_type": "stream",
     "text": [
      "Enter n =2\n"
     ]
    }
   ],
   "source": [
    "#tuple inside tupule\n",
    "data=()\n",
    "n=int(input(\"Enter n =\"))\n",
    "for i in range(n):\n",
    "    name=input(\"Enter name= \")\n",
    "    age=int(input(\"Enter age= \"))\n",
    "    add=(input(\"Enter add= \"))\n",
    "    info=(name,age,add)\n",
    "    data=data+(info,)\n",
    "    \n",
    "print(data)"
   ]
  },
  {
   "cell_type": "code",
   "execution_count": 1,
   "id": "8902af13",
   "metadata": {},
   "outputs": [
    {
     "name": "stdout",
     "output_type": "stream",
     "text": [
      "[[1, 2, 3], [4, 5, 6], [8, 9, 0]]\n"
     ]
    }
   ],
   "source": [
    "#tupule inside tuple to list inside list\n",
    "a=((1,2,3),(4,5,6),(8,9,0))\n",
    "b=[list(x) for x in a] \n",
    "print(b)"
   ]
  },
  {
   "cell_type": "code",
   "execution_count": 7,
   "id": "aa26073f",
   "metadata": {},
   "outputs": [
    {
     "name": "stdout",
     "output_type": "stream",
     "text": [
      "[(1, 2, 33), (4, 5, 6), (8, 9, 0)]\n"
     ]
    }
   ],
   "source": [
    "#tupule inside list\n",
    "a=[(1,2,3),(4,5,6),(8,9,0)]\n",
    "a[0]=(1,2,33)\n",
    "print(a)"
   ]
  },
  {
   "cell_type": "code",
   "execution_count": null,
   "id": "ea82e5e2",
   "metadata": {},
   "outputs": [],
   "source": []
  }
 ],
 "metadata": {
  "kernelspec": {
   "display_name": "Python 3 (ipykernel)",
   "language": "python",
   "name": "python3"
  },
  "language_info": {
   "codemirror_mode": {
    "name": "ipython",
    "version": 3
   },
   "file_extension": ".py",
   "mimetype": "text/x-python",
   "name": "python",
   "nbconvert_exporter": "python",
   "pygments_lexer": "ipython3",
   "version": "3.9.7"
  }
 },
 "nbformat": 4,
 "nbformat_minor": 5
}
