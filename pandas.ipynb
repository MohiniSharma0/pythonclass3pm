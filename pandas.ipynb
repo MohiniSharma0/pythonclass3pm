{
 "cells": [
  {
   "cell_type": "code",
   "execution_count": null,
   "id": "2c8eec0d",
   "metadata": {},
   "outputs": [],
   "source": [
    "# File Creating\n",
    "s=\"\"\n",
    "n=int(input(\"Enter n =\"))\n",
    "file=open(\"data1.txt\",\"a\")\n",
    "for i in range(n):\n",
    "    name=(input(\"Enter name=\"))\n",
    "    phone= int(input(\"Enter phone=\"))\n",
    "    info= f\"{name},{phone}\\n\"\n",
    "    s=s+info\n",
    "    \n",
    "print(s)\n",
    "file.write(s)\n",
    "file.close()"
   ]
  },
  {
   "cell_type": "code",
   "execution_count": 17,
   "id": "41c32187",
   "metadata": {},
   "outputs": [
    {
     "data": {
      "text/html": [
       "<div>\n",
       "<style scoped>\n",
       "    .dataframe tbody tr th:only-of-type {\n",
       "        vertical-align: middle;\n",
       "    }\n",
       "\n",
       "    .dataframe tbody tr th {\n",
       "        vertical-align: top;\n",
       "    }\n",
       "\n",
       "    .dataframe thead th {\n",
       "        text-align: right;\n",
       "    }\n",
       "</style>\n",
       "<table border=\"1\" class=\"dataframe\">\n",
       "  <thead>\n",
       "    <tr style=\"text-align: right;\">\n",
       "      <th></th>\n",
       "      <th>Name</th>\n",
       "      <th>Age</th>\n",
       "      <th>Address</th>\n",
       "      <th>Phone</th>\n",
       "    </tr>\n",
       "    <tr>\n",
       "      <th>Sn</th>\n",
       "      <th></th>\n",
       "      <th></th>\n",
       "      <th></th>\n",
       "      <th></th>\n",
       "    </tr>\n",
       "  </thead>\n",
       "  <tbody>\n",
       "    <tr>\n",
       "      <th>2</th>\n",
       "      <td>Hari</td>\n",
       "      <td>20</td>\n",
       "      <td>Chitwan</td>\n",
       "      <td>984834783</td>\n",
       "    </tr>\n",
       "    <tr>\n",
       "      <th>3</th>\n",
       "      <td>Moon</td>\n",
       "      <td>22</td>\n",
       "      <td>Kathmandu</td>\n",
       "      <td>984356656</td>\n",
       "    </tr>\n",
       "    <tr>\n",
       "      <th>4</th>\n",
       "      <td>Milan</td>\n",
       "      <td>22</td>\n",
       "      <td>Biratnagar</td>\n",
       "      <td>980067565</td>\n",
       "    </tr>\n",
       "    <tr>\n",
       "      <th>5</th>\n",
       "      <td>Punam</td>\n",
       "      <td>21</td>\n",
       "      <td>Ithari</td>\n",
       "      <td>9867544524</td>\n",
       "    </tr>\n",
       "    <tr>\n",
       "      <th>6</th>\n",
       "      <td>Roshan</td>\n",
       "      <td>19</td>\n",
       "      <td>Butwal</td>\n",
       "      <td>987065457</td>\n",
       "    </tr>\n",
       "  </tbody>\n",
       "</table>\n",
       "</div>"
      ],
      "text/plain": [
       "      Name  Age     Address       Phone\n",
       "Sn                                     \n",
       "2     Hari   20     Chitwan   984834783\n",
       "3     Moon   22   Kathmandu   984356656\n",
       "4    Milan   22  Biratnagar   980067565\n",
       "5    Punam   21      Ithari  9867544524\n",
       "6   Roshan   19      Butwal   987065457"
      ]
     },
     "execution_count": 17,
     "metadata": {},
     "output_type": "execute_result"
    }
   ],
   "source": [
    "import pandas as pd\n",
    "df=pd.read_csv(\"data.csv\",index_col=\"Sn\")\n",
    "df.tail(5)"
   ]
  },
  {
   "cell_type": "code",
   "execution_count": 23,
   "id": "bd05c51b",
   "metadata": {},
   "outputs": [
    {
     "data": {
      "text/html": [
       "<div>\n",
       "<style scoped>\n",
       "    .dataframe tbody tr th:only-of-type {\n",
       "        vertical-align: middle;\n",
       "    }\n",
       "\n",
       "    .dataframe tbody tr th {\n",
       "        vertical-align: top;\n",
       "    }\n",
       "\n",
       "    .dataframe thead th {\n",
       "        text-align: right;\n",
       "    }\n",
       "</style>\n",
       "<table border=\"1\" class=\"dataframe\">\n",
       "  <thead>\n",
       "    <tr style=\"text-align: right;\">\n",
       "      <th></th>\n",
       "      <th>Name</th>\n",
       "      <th>Age</th>\n",
       "    </tr>\n",
       "    <tr>\n",
       "      <th>Sn</th>\n",
       "      <th></th>\n",
       "      <th></th>\n",
       "    </tr>\n",
       "  </thead>\n",
       "  <tbody>\n",
       "    <tr>\n",
       "      <th>2</th>\n",
       "      <td>Hari</td>\n",
       "      <td>20</td>\n",
       "    </tr>\n",
       "    <tr>\n",
       "      <th>3</th>\n",
       "      <td>Moon</td>\n",
       "      <td>22</td>\n",
       "    </tr>\n",
       "    <tr>\n",
       "      <th>4</th>\n",
       "      <td>Milan</td>\n",
       "      <td>22</td>\n",
       "    </tr>\n",
       "    <tr>\n",
       "      <th>5</th>\n",
       "      <td>Punam</td>\n",
       "      <td>21</td>\n",
       "    </tr>\n",
       "    <tr>\n",
       "      <th>6</th>\n",
       "      <td>Roshan</td>\n",
       "      <td>19</td>\n",
       "    </tr>\n",
       "  </tbody>\n",
       "</table>\n",
       "</div>"
      ],
      "text/plain": [
       "      Name  Age\n",
       "Sn             \n",
       "2     Hari   20\n",
       "3     Moon   22\n",
       "4    Milan   22\n",
       "5    Punam   21\n",
       "6   Roshan   19"
      ]
     },
     "execution_count": 23,
     "metadata": {},
     "output_type": "execute_result"
    }
   ],
   "source": [
    "import pandas as pd\n",
    "df=pd.read_csv(\"data.csv\",index_col=\"Sn\",usecols = [\"Sn\",\"Name\",\"Age\"])\n",
    "df.tail(5)"
   ]
  },
  {
   "cell_type": "code",
   "execution_count": 28,
   "id": "8be3f7fe",
   "metadata": {},
   "outputs": [
    {
     "data": {
      "text/html": [
       "<div>\n",
       "<style scoped>\n",
       "    .dataframe tbody tr th:only-of-type {\n",
       "        vertical-align: middle;\n",
       "    }\n",
       "\n",
       "    .dataframe tbody tr th {\n",
       "        vertical-align: top;\n",
       "    }\n",
       "\n",
       "    .dataframe thead th {\n",
       "        text-align: right;\n",
       "    }\n",
       "</style>\n",
       "<table border=\"1\" class=\"dataframe\">\n",
       "  <thead>\n",
       "    <tr style=\"text-align: right;\">\n",
       "      <th></th>\n",
       "      <th>Name</th>\n",
       "      <th>Age</th>\n",
       "    </tr>\n",
       "    <tr>\n",
       "      <th>Sn</th>\n",
       "      <th></th>\n",
       "      <th></th>\n",
       "    </tr>\n",
       "  </thead>\n",
       "  <tbody>\n",
       "    <tr>\n",
       "      <th>2</th>\n",
       "      <td>Hari</td>\n",
       "      <td>20</td>\n",
       "    </tr>\n",
       "    <tr>\n",
       "      <th>3</th>\n",
       "      <td>Moon</td>\n",
       "      <td>22</td>\n",
       "    </tr>\n",
       "    <tr>\n",
       "      <th>4</th>\n",
       "      <td>Milan</td>\n",
       "      <td>22</td>\n",
       "    </tr>\n",
       "  </tbody>\n",
       "</table>\n",
       "</div>"
      ],
      "text/plain": [
       "     Name  Age\n",
       "Sn            \n",
       "2    Hari   20\n",
       "3    Moon   22\n",
       "4   Milan   22"
      ]
     },
     "execution_count": 28,
     "metadata": {},
     "output_type": "execute_result"
    }
   ],
   "source": [
    "import pandas as pd\n",
    "df=pd.read_csv(\"data.csv\",index_col=\"Sn\")\n",
    "df.iloc[1:4,0:2]"
   ]
  },
  {
   "cell_type": "code",
   "execution_count": 29,
   "id": "15eddc3b",
   "metadata": {},
   "outputs": [
    {
     "data": {
      "text/html": [
       "<div>\n",
       "<style scoped>\n",
       "    .dataframe tbody tr th:only-of-type {\n",
       "        vertical-align: middle;\n",
       "    }\n",
       "\n",
       "    .dataframe tbody tr th {\n",
       "        vertical-align: top;\n",
       "    }\n",
       "\n",
       "    .dataframe thead th {\n",
       "        text-align: right;\n",
       "    }\n",
       "</style>\n",
       "<table border=\"1\" class=\"dataframe\">\n",
       "  <thead>\n",
       "    <tr style=\"text-align: right;\">\n",
       "      <th></th>\n",
       "      <th>Name</th>\n",
       "      <th>Age</th>\n",
       "      <th>Address</th>\n",
       "      <th>Phone</th>\n",
       "    </tr>\n",
       "    <tr>\n",
       "      <th>Sn</th>\n",
       "      <th></th>\n",
       "      <th></th>\n",
       "      <th></th>\n",
       "      <th></th>\n",
       "    </tr>\n",
       "  </thead>\n",
       "  <tbody>\n",
       "    <tr>\n",
       "      <th>1</th>\n",
       "      <td>Ram</td>\n",
       "      <td>18</td>\n",
       "      <td>Pokhara</td>\n",
       "      <td>9836463974</td>\n",
       "    </tr>\n",
       "    <tr>\n",
       "      <th>2</th>\n",
       "      <td>Hari</td>\n",
       "      <td>20</td>\n",
       "      <td>Chitwan</td>\n",
       "      <td>984834783</td>\n",
       "    </tr>\n",
       "    <tr>\n",
       "      <th>3</th>\n",
       "      <td>Moon</td>\n",
       "      <td>22</td>\n",
       "      <td>Kathmandu</td>\n",
       "      <td>984356656</td>\n",
       "    </tr>\n",
       "    <tr>\n",
       "      <th>4</th>\n",
       "      <td>Milan</td>\n",
       "      <td>22</td>\n",
       "      <td>Biratnagar</td>\n",
       "      <td>980067565</td>\n",
       "    </tr>\n",
       "  </tbody>\n",
       "</table>\n",
       "</div>"
      ],
      "text/plain": [
       "     Name  Age     Address       Phone\n",
       "Sn                                    \n",
       "1     Ram   18     Pokhara  9836463974\n",
       "2    Hari   20     Chitwan   984834783\n",
       "3    Moon   22   Kathmandu   984356656\n",
       "4   Milan   22  Biratnagar   980067565"
      ]
     },
     "execution_count": 29,
     "metadata": {},
     "output_type": "execute_result"
    }
   ],
   "source": [
    "import pandas as pd\n",
    "df=pd.read_csv(\"data.csv\",index_col=\"Sn\")\n",
    "df.loc[1:4]"
   ]
  },
  {
   "cell_type": "code",
   "execution_count": 38,
   "id": "3fc3e255",
   "metadata": {},
   "outputs": [
    {
     "data": {
      "text/html": [
       "<div>\n",
       "<style scoped>\n",
       "    .dataframe tbody tr th:only-of-type {\n",
       "        vertical-align: middle;\n",
       "    }\n",
       "\n",
       "    .dataframe tbody tr th {\n",
       "        vertical-align: top;\n",
       "    }\n",
       "\n",
       "    .dataframe thead th {\n",
       "        text-align: right;\n",
       "    }\n",
       "</style>\n",
       "<table border=\"1\" class=\"dataframe\">\n",
       "  <thead>\n",
       "    <tr style=\"text-align: right;\">\n",
       "      <th></th>\n",
       "      <th>Name</th>\n",
       "      <th>Age</th>\n",
       "      <th>Address</th>\n",
       "      <th>Phone</th>\n",
       "    </tr>\n",
       "    <tr>\n",
       "      <th>Sn</th>\n",
       "      <th></th>\n",
       "      <th></th>\n",
       "      <th></th>\n",
       "      <th></th>\n",
       "    </tr>\n",
       "  </thead>\n",
       "  <tbody>\n",
       "    <tr>\n",
       "      <th>3</th>\n",
       "      <td>Moon</td>\n",
       "      <td>22</td>\n",
       "      <td>Kathmandu</td>\n",
       "      <td>984356656</td>\n",
       "    </tr>\n",
       "    <tr>\n",
       "      <th>6</th>\n",
       "      <td>Roshan</td>\n",
       "      <td>19</td>\n",
       "      <td>Kathmandu</td>\n",
       "      <td>987065457</td>\n",
       "    </tr>\n",
       "  </tbody>\n",
       "</table>\n",
       "</div>"
      ],
      "text/plain": [
       "      Name  Age    Address      Phone\n",
       "Sn                                   \n",
       "3     Moon   22  Kathmandu  984356656\n",
       "6   Roshan   19  Kathmandu  987065457"
      ]
     },
     "execution_count": 38,
     "metadata": {},
     "output_type": "execute_result"
    }
   ],
   "source": [
    "import pandas as pd\n",
    "df=pd.read_csv(\"data.csv\",index_col=\"Sn\")\n",
    "df[df[\"Age\"]>20]\n",
    "df[df[\"Address\"]==\"Kathmandu\"]"
   ]
  },
  {
   "cell_type": "code",
   "execution_count": 1,
   "id": "4d57b5bb",
   "metadata": {},
   "outputs": [],
   "source": [
    "import pandas as pd\n",
    "df=pd.read_csv(\"data.csv\",index_col=\"Sn\")\n",
    "data =df[df[\"Address\"]==\"Kathmandu\"]\n",
    "data.to_csv(\"new file.csv\")"
   ]
  },
  {
   "cell_type": "code",
   "execution_count": 3,
   "id": "b9e100c5",
   "metadata": {},
   "outputs": [
    {
     "data": {
      "text/html": [
       "<div>\n",
       "<style scoped>\n",
       "    .dataframe tbody tr th:only-of-type {\n",
       "        vertical-align: middle;\n",
       "    }\n",
       "\n",
       "    .dataframe tbody tr th {\n",
       "        vertical-align: top;\n",
       "    }\n",
       "\n",
       "    .dataframe thead th {\n",
       "        text-align: right;\n",
       "    }\n",
       "</style>\n",
       "<table border=\"1\" class=\"dataframe\">\n",
       "  <thead>\n",
       "    <tr style=\"text-align: right;\">\n",
       "      <th></th>\n",
       "      <th>Name</th>\n",
       "      <th>Age</th>\n",
       "    </tr>\n",
       "  </thead>\n",
       "  <tbody>\n",
       "    <tr>\n",
       "      <th>0</th>\n",
       "      <td>Akash</td>\n",
       "      <td>20</td>\n",
       "    </tr>\n",
       "    <tr>\n",
       "      <th>1</th>\n",
       "      <td>Sabin</td>\n",
       "      <td>30</td>\n",
       "    </tr>\n",
       "    <tr>\n",
       "      <th>2</th>\n",
       "      <td>Sita</td>\n",
       "      <td>34</td>\n",
       "    </tr>\n",
       "  </tbody>\n",
       "</table>\n",
       "</div>"
      ],
      "text/plain": [
       "    Name  Age\n",
       "0  Akash   20\n",
       "1  Sabin   30\n",
       "2   Sita   34"
      ]
     },
     "execution_count": 3,
     "metadata": {},
     "output_type": "execute_result"
    }
   ],
   "source": [
    "import pandas as pd\n",
    "d={\"Name\":[\"Akash\",\"Sabin\",\"Sita\"],\"Age\":[20,30,34]}\n",
    "df = pd.DataFrame(d)\n",
    "df.to_csv(\"info.csv\")\n",
    "df\n"
   ]
  },
  {
   "cell_type": "code",
   "execution_count": 4,
   "id": "67061475",
   "metadata": {},
   "outputs": [
    {
     "data": {
      "text/html": [
       "<div>\n",
       "<style scoped>\n",
       "    .dataframe tbody tr th:only-of-type {\n",
       "        vertical-align: middle;\n",
       "    }\n",
       "\n",
       "    .dataframe tbody tr th {\n",
       "        vertical-align: top;\n",
       "    }\n",
       "\n",
       "    .dataframe thead th {\n",
       "        text-align: right;\n",
       "    }\n",
       "</style>\n",
       "<table border=\"1\" class=\"dataframe\">\n",
       "  <thead>\n",
       "    <tr style=\"text-align: right;\">\n",
       "      <th></th>\n",
       "      <th>Name</th>\n",
       "      <th>Age</th>\n",
       "    </tr>\n",
       "  </thead>\n",
       "  <tbody>\n",
       "    <tr>\n",
       "      <th>0</th>\n",
       "      <td>Akash</td>\n",
       "      <td>20</td>\n",
       "    </tr>\n",
       "    <tr>\n",
       "      <th>1</th>\n",
       "      <td>Sabin</td>\n",
       "      <td>30</td>\n",
       "    </tr>\n",
       "    <tr>\n",
       "      <th>2</th>\n",
       "      <td>Sita</td>\n",
       "      <td>34</td>\n",
       "    </tr>\n",
       "  </tbody>\n",
       "</table>\n",
       "</div>"
      ],
      "text/plain": [
       "    Name  Age\n",
       "0  Akash   20\n",
       "1  Sabin   30\n",
       "2   Sita   34"
      ]
     },
     "execution_count": 4,
     "metadata": {},
     "output_type": "execute_result"
    }
   ],
   "source": [
    "import pandas as pd\n",
    "d={\"Name\":[\"Akash\",\"Sabin\",\"Sita\"],\"Age\":[20,30,34]}\n",
    "df = pd.DataFrame(d)                                      #row & col\n",
    "df.to_json(\"info.json\")\n",
    "df\n"
   ]
  },
  {
   "cell_type": "code",
   "execution_count": 5,
   "id": "79a15c39",
   "metadata": {},
   "outputs": [],
   "source": [
    "import csv\n",
    "fields=[\"kamal\",\"28\"]\n",
    "f=open(\"info.csv\",\"w\")\n",
    "x=csv.writer(f)\n",
    "x.writerow(fields)\n",
    "f.close()"
   ]
  },
  {
   "cell_type": "code",
   "execution_count": 15,
   "id": "f452312f",
   "metadata": {},
   "outputs": [],
   "source": [
    "import csv\n",
    "data=[[\"Ram\",67,\"Kathmandu\"],[\"Shyam\",34,\"Patan\"],[\"Sita\",23,\"Bhaktapur\"]] #row anusar\n",
    "f=open(\"info.csv\",\"w\")\n",
    "x=csv.writer(f)\n",
    "for i in data:\n",
    "    x.writerow(i)\n",
    "f.close()"
   ]
  },
  {
   "cell_type": "code",
   "execution_count": 17,
   "id": "cd6cf2d8",
   "metadata": {},
   "outputs": [
    {
     "name": "stdout",
     "output_type": "stream",
     "text": [
      "[{'Name': 'Ram', 'Age': '67', 'Address': 'Kathmandu'}, {'Name': 'Shyam', 'Age': '34', 'Address': 'Patan'}, {'Name': 'Sita', 'Age': '23', 'Address': 'Bhaktapur'}]\n"
     ]
    }
   ],
   "source": [
    "import csv\n",
    "data=[]\n",
    "with open(\"info.csv\") as csvfile:\n",
    "    reader=csv.DictReader(csvfile)\n",
    "    for row in reader:\n",
    "         data.append(dict(row))\n",
    "print(data)\n"
   ]
  },
  {
   "cell_type": "code",
   "execution_count": 24,
   "id": "174d5f29",
   "metadata": {},
   "outputs": [],
   "source": [
    "import csv\n",
    "csv_columns=[\"Name\",\"Age\",\"Address\"]\n",
    "dict=[{'Name': 'Moon', 'Age': '67', 'Address': 'Kathmandu'},\n",
    "      {'Name': 'Shyam', 'Age': '34', 'Address': 'Patan'}\n",
    "]\n",
    "csvfile=open(\"data.csv\",\"w\")\n",
    "writer=csv.DictWriter(csvfile,fieldnames=csv_columns)\n",
    "writer.writeheader()\n",
    "for data in dict:\n",
    "    writer.writerow(data)\n",
    "csvfile.close()\n"
   ]
  },
  {
   "cell_type": "code",
   "execution_count": null,
   "id": "af54fe8c",
   "metadata": {},
   "outputs": [],
   "source": []
  }
 ],
 "metadata": {
  "kernelspec": {
   "display_name": "Python 3 (ipykernel)",
   "language": "python",
   "name": "python3"
  },
  "language_info": {
   "codemirror_mode": {
    "name": "ipython",
    "version": 3
   },
   "file_extension": ".py",
   "mimetype": "text/x-python",
   "name": "python",
   "nbconvert_exporter": "python",
   "pygments_lexer": "ipython3",
   "version": "3.9.7"
  }
 },
 "nbformat": 4,
 "nbformat_minor": 5
}
