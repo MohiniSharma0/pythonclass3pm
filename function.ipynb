{
 "cells": [
  {
   "cell_type": "code",
   "execution_count": null,
   "id": "5616202c",
   "metadata": {},
   "outputs": [],
   "source": [
    "# # function\n",
    "# def<function_name>():\n",
    "#     <operation>\n",
    "         ...\n",
    "         ....\n",
    "\n",
    "# <function_name>()"
   ]
  },
  {
   "cell_type": "code",
   "execution_count": 1,
   "id": "1cc17131",
   "metadata": {},
   "outputs": [
    {
     "name": "stdout",
     "output_type": "stream",
     "text": [
      "Hello World\n"
     ]
    }
   ],
   "source": [
    "def hello():\n",
    "    print(\"Hello World\")\n",
    "hello()    "
   ]
  },
  {
   "cell_type": "code",
   "execution_count": 2,
   "id": "8d840f05",
   "metadata": {},
   "outputs": [
    {
     "name": "stdout",
     "output_type": "stream",
     "text": [
      "Enter l= 4\n",
      "Enter b= 5\n",
      "Enter h= 3\n",
      "The vol is = 60\n"
     ]
    }
   ],
   "source": [
    "def cal():\n",
    "    l = int(input(\"Enter l= \"))\n",
    "    b = int(input(\"Enter b= \"))\n",
    "    h = int(input(\"Enter h= \"))\n",
    "    v=l*b*h\n",
    "    print(\"The vol is =\",v)\n",
    "cal()    "
   ]
  },
  {
   "cell_type": "code",
   "execution_count": 6,
   "id": "ea33d179",
   "metadata": {},
   "outputs": [
    {
     "name": "stdout",
     "output_type": "stream",
     "text": [
      "Enter l= 5\n",
      "Enter b= 2\n",
      "Enter h= 3\n",
      "The vol is = 30\n",
      "The area is = 10\n"
     ]
    }
   ],
   "source": [
    "l = int(input(\"Enter l= \")) #global variable\n",
    "b = int(input(\"Enter b= \"))\n",
    "h = int(input(\"Enter h= \"))\n",
    "def area():\n",
    "        a= l*b\n",
    "        print(\"The area is =\",a)\n",
    "def vol():\n",
    "     v=l*b*h\n",
    "     print(\"The vol is =\",v)\n",
    "vol()\n",
    "area()"
   ]
  },
  {
   "cell_type": "code",
   "execution_count": null,
   "id": "1655b474",
   "metadata": {},
   "outputs": [],
   "source": [
    "argument\n",
    "# # function\n",
    "# def<function_name>():\n",
    "#     <operation>\n",
    "         ....\n",
    "         ....\n",
    "\n",
    "# <function_name>(argument)"
   ]
  },
  {
   "cell_type": "code",
   "execution_count": 2,
   "id": "f78b22e8",
   "metadata": {},
   "outputs": [
    {
     "name": "stdout",
     "output_type": "stream",
     "text": [
      "Enter l= 4\n",
      "Enter b= 2\n",
      "Enter h= 1\n",
      "The area is = 8\n",
      "The vol is = 8\n"
     ]
    }
   ],
   "source": [
    "#function with argument\n",
    "def cal(x,y,z):\n",
    "    a=x*y\n",
    "    v=a*z\n",
    "    \n",
    "    print(\"The area is =\",a)\n",
    "    print(\"The vol is =\",v)\n",
    "\n",
    "l = int(input(\"Enter l= \")) #local variable\n",
    "b = int(input(\"Enter b= \"))\n",
    "h = int(input(\"Enter h= \"))\n",
    "cal(l,b,h)"
   ]
  },
  {
   "cell_type": "code",
   "execution_count": 3,
   "id": "c64af605",
   "metadata": {},
   "outputs": [
    {
     "name": "stdout",
     "output_type": "stream",
     "text": [
      "32 192\n"
     ]
    }
   ],
   "source": [
    "def cal(x,y,z):\n",
    "    a=x*y\n",
    "    v=a*z\n",
    "    print(a,v)\n",
    "cal(4,8,6)"
   ]
  },
  {
   "cell_type": "code",
   "execution_count": 8,
   "id": "159bfdd4",
   "metadata": {},
   "outputs": [
    {
     "name": "stdout",
     "output_type": "stream",
     "text": [
      "c\n",
      "c++\n",
      "java\n",
      "Python\n"
     ]
    }
   ],
   "source": [
    "#default argumnet\n",
    "def language(lan=\"Python\"):\n",
    "     print(lan)\n",
    "language(\"c\")\n",
    "language(\"c++\")\n",
    "language(\"java\")\n",
    "language()"
   ]
  },
  {
   "cell_type": "code",
   "execution_count": 10,
   "id": "dcc56406",
   "metadata": {},
   "outputs": [
    {
     "name": "stdout",
     "output_type": "stream",
     "text": [
      "The vol is=  0\n"
     ]
    }
   ],
   "source": [
    "def cal(x,y=0,z=5):\n",
    "    v=x*y*z\n",
    "    print(\"The vol is= \",v)\n",
    "cal(15)"
   ]
  },
  {
   "cell_type": "code",
   "execution_count": 4,
   "id": "d695efe4",
   "metadata": {},
   "outputs": [
    {
     "name": "stdout",
     "output_type": "stream",
     "text": [
      "Hello World\n"
     ]
    }
   ],
   "source": [
    "# Return type function\n",
    "def hello(x):\n",
    "    return x\n",
    "y = hello(\"Hello World\")\n",
    "print(y)"
   ]
  },
  {
   "cell_type": "code",
   "execution_count": 12,
   "id": "6f3d966c",
   "metadata": {},
   "outputs": [
    {
     "name": "stdout",
     "output_type": "stream",
     "text": [
      "The area is = 20\n"
     ]
    }
   ],
   "source": [
    "def area(x,y):\n",
    "    a=x*y\n",
    "    return a\n",
    "ar= area(10,2)\n",
    "print(\"The area is =\",ar)\n"
   ]
  },
  {
   "cell_type": "code",
   "execution_count": 16,
   "id": "ab5dab04",
   "metadata": {},
   "outputs": [
    {
     "name": "stdout",
     "output_type": "stream",
     "text": [
      "(20, 40)\n",
      "The area is = 20\n",
      "The volume is = 40\n"
     ]
    }
   ],
   "source": [
    "def cal(x,y,z):\n",
    "    a=x*y\n",
    "    v=a*z \n",
    "    return a,v\n",
    "ar= cal(10,2,2)\n",
    "print(ar)\n",
    "ar=cal(10,2,2)\n",
    "area,volume= ar\n",
    "print(\"The area is =\",area)\n",
    "print(\"The volume is =\",volume)\n"
   ]
  },
  {
   "cell_type": "code",
   "execution_count": 15,
   "id": "2f6ac90f",
   "metadata": {},
   "outputs": [
    {
     "name": "stdout",
     "output_type": "stream",
     "text": [
      "Enter a =8\n",
      "Enter b =9\n",
      "Select Operators\n",
      "Enter choice(+,-,*,/):+\n",
      "17.0\n"
     ]
    }
   ],
   "source": [
    "# WAP to make a calculator by using return type function\n",
    "\n",
    "\n",
    "def add(x,y):\n",
    "    add=x+y\n",
    "    return add\n",
    "def sub(x,y):\n",
    "    sub=x-y\n",
    "    return sub\n",
    "def mul(x,y):\n",
    "    mul=x*y\n",
    "    return mul\n",
    "def div(x,y):\n",
    "    div=x/y\n",
    "    return div\n",
    "num1= float(input(\"Enter a =\"))\n",
    "num2= float(input(\"Enter b =\"))\n",
    "\n",
    "print(\"Select Operators\")\n",
    "\n",
    "choice = input(\"Enter choice(+,-,*,/):\")\n",
    "if choice == '+':\n",
    "    print(add(num1,num2))\n",
    "elif choice == '-':\n",
    "    print(sub(num1,num2))\n",
    "elif choice == '*':\n",
    "    print(mul(num1,num2))\n",
    "elif choice =='/':\n",
    "    print(div(num1,num2))\n",
    "else:\n",
    "    print(\"Invalid input\")\n"
   ]
  },
  {
   "cell_type": "code",
   "execution_count": null,
   "id": "5f0351b0",
   "metadata": {},
   "outputs": [],
   "source": [
    "def hello():\n",
    "    print(\"Hello World\")\n",
    "    hello()\n",
    "hello()    "
   ]
  },
  {
   "cell_type": "code",
   "execution_count": null,
   "id": "c897ddb9",
   "metadata": {},
   "outputs": [
    {
     "name": "stdout",
     "output_type": "stream",
     "text": [
      "Hello World\n",
      "Enter y to print more y\n",
      "Hello World\n"
     ]
    }
   ],
   "source": [
    "def hello():\n",
    "    print(\"Hello World\")\n",
    "    x= input(\"Enter y to print more \")\n",
    "    if x==\"y\":\n",
    "        hello()\n",
    "hello()    "
   ]
  },
  {
   "cell_type": "code",
   "execution_count": 1,
   "id": "6186011e",
   "metadata": {},
   "outputs": [
    {
     "data": {
      "text/plain": [
       "3.141592653589793"
      ]
     },
     "execution_count": 1,
     "metadata": {},
     "output_type": "execute_result"
    }
   ],
   "source": [
    "import math as m\n",
    "m.pi\n"
   ]
  },
  {
   "cell_type": "code",
   "execution_count": 1,
   "id": "0b7e94e3",
   "metadata": {},
   "outputs": [
    {
     "name": "stdout",
     "output_type": "stream",
     "text": [
      "Enter r= 2\n",
      "12.566370614359172\n"
     ]
    }
   ],
   "source": [
    "import math as m\n",
    "r= float(input(\"Enter r= \"))\n",
    "a=m.pi*m.pow(r,2)\n",
    "print(a)"
   ]
  },
  {
   "cell_type": "code",
   "execution_count": 3,
   "id": "f1b5a6cd",
   "metadata": {},
   "outputs": [
    {
     "name": "stdout",
     "output_type": "stream",
     "text": [
      "Enter mass= 5\n",
      "Enter acc= 5\n",
      "25.0\n"
     ]
    }
   ],
   "source": [
    "import math \n",
    "mass=float(input(\"Enter mass= \"))\n",
    "acc=float(input(\"Enter acc= \"))\n",
    "f=mass*acc*math.sin(math.pi/2)\n",
    "print(f)"
   ]
  },
  {
   "cell_type": "code",
   "execution_count": 7,
   "id": "ac290bcd",
   "metadata": {},
   "outputs": [
    {
     "name": "stdout",
     "output_type": "stream",
     "text": [
      "24\n"
     ]
    }
   ],
   "source": [
    "import math\n",
    "x= math.factorial(4)\n",
    "print(x)"
   ]
  },
  {
   "cell_type": "code",
   "execution_count": null,
   "id": "6f019c44",
   "metadata": {},
   "outputs": [],
   "source": []
  }
 ],
 "metadata": {
  "kernelspec": {
   "display_name": "Python 3 (ipykernel)",
   "language": "python",
   "name": "python3"
  },
  "language_info": {
   "codemirror_mode": {
    "name": "ipython",
    "version": 3
   },
   "file_extension": ".py",
   "mimetype": "text/x-python",
   "name": "python",
   "nbconvert_exporter": "python",
   "pygments_lexer": "ipython3",
   "version": "3.9.7"
  }
 },
 "nbformat": 4,
 "nbformat_minor": 5
}
