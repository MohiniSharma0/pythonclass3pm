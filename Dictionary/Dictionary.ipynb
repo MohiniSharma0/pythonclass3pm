{
 "cells": [
  {
   "cell_type": "code",
   "execution_count": null,
   "id": "77ec03e1",
   "metadata": {},
   "outputs": [],
   "source": [
    "# Dictionary\n",
    "# Indexed Ordered Multiple Values\n",
    "# Duplicate Values\n",
    "# Mutable"
   ]
  },
  {
   "cell_type": "code",
   "execution_count": null,
   "id": "d1024637",
   "metadata": {},
   "outputs": [],
   "source": []
  },
  {
   "cell_type": "code",
   "execution_count": null,
   "id": "56dd4c78",
   "metadata": {},
   "outputs": [],
   "source": [
    "d ={<key>:<values>}"
   ]
  },
  {
   "cell_type": "code",
   "execution_count": 2,
   "id": "4b504994",
   "metadata": {},
   "outputs": [
    {
     "name": "stdout",
     "output_type": "stream",
     "text": [
      "{'a': 'Apple'}\n",
      "<class 'dict'>\n"
     ]
    }
   ],
   "source": [
    "d={'a':\"Apple\"}\n",
    "print(d)\n",
    "print(type(d))"
   ]
  },
  {
   "cell_type": "code",
   "execution_count": 5,
   "id": "46102a9c",
   "metadata": {},
   "outputs": [
    {
     "name": "stdout",
     "output_type": "stream",
     "text": [
      "Ball\n"
     ]
    }
   ],
   "source": [
    "d={'a':\"Apple\",\"b\":\"Ball\"}\n",
    "print(d['b'])"
   ]
  },
  {
   "cell_type": "code",
   "execution_count": 6,
   "id": "e7848d4e",
   "metadata": {},
   "outputs": [
    {
     "name": "stdout",
     "output_type": "stream",
     "text": [
      "{'a': 'Apple', 'b': 'Ball', 'c': 'Cat'}\n",
      "3\n"
     ]
    }
   ],
   "source": [
    "d={'a':\"Apple\",\"b\":\"Ball\",\"c\":\"Cat\"}\n",
    "print(d)\n",
    "print(len(d))"
   ]
  },
  {
   "cell_type": "code",
   "execution_count": 7,
   "id": "ad8d753e",
   "metadata": {},
   "outputs": [
    {
     "name": "stdout",
     "output_type": "stream",
     "text": [
      "{'a': 'Apple', 'b': 'Cat'}\n"
     ]
    }
   ],
   "source": [
    "d={'a':\"Apple\",\"b\":\"Ball\",\"b\":\"Cat\"} #no duplicate key\n",
    "print(d)"
   ]
  },
  {
   "cell_type": "code",
   "execution_count": 9,
   "id": "acbf4e01",
   "metadata": {},
   "outputs": [
    {
     "name": "stdout",
     "output_type": "stream",
     "text": [
      "{'a': 'Ant', 'b': 'Ant', 'c': 'Ant'}\n"
     ]
    }
   ],
   "source": [
    "a={}\n",
    "a[\"a\"]=\"Ant\"   #mutable\n",
    "a[\"b\"]=\"Ant\"\n",
    "a[\"c\"]=\"Ant\"\n",
    "print(a)"
   ]
  },
  {
   "cell_type": "code",
   "execution_count": 16,
   "id": "9916382e",
   "metadata": {},
   "outputs": [
    {
     "name": "stdout",
     "output_type": "stream",
     "text": [
      "Enter n= 2\n",
      "Enter name= Mohini\n",
      "Enter number= 9861879803\n",
      "Enter name= Moon\n",
      "Enter number= 98470334832\n",
      "{'Mohini': '9861879803', 'Moon': '98470334832'}\n"
     ]
    }
   ],
   "source": [
    "info={}\n",
    "n= int(input(\"Enter n= \"))\n",
    "for i in range(n):\n",
    "    name = input(\"Enter name= \")\n",
    "    phone= input(\"Enter number= \")\n",
    "    info[name]=phone\n",
    "print(info)"
   ]
  },
  {
   "cell_type": "code",
   "execution_count": 18,
   "id": "8cc019ee",
   "metadata": {},
   "outputs": [
    {
     "name": "stdout",
     "output_type": "stream",
     "text": [
      "('a', 'Apple')\n",
      "('b', 'Cat')\n"
     ]
    }
   ],
   "source": [
    "d={'a':\"Apple\",\"b\":\"Ball\",\"b\":\"Cat\"} \n",
    "for i in d.items():\n",
    "    print(i)"
   ]
  },
  {
   "cell_type": "code",
   "execution_count": 21,
   "id": "8bd7eff0",
   "metadata": {},
   "outputs": [
    {
     "name": "stdout",
     "output_type": "stream",
     "text": [
      "[('a', 'Apple'), ('b', 'Cat')]\n"
     ]
    }
   ],
   "source": [
    "l=list()\n",
    "d={'a':\"Apple\",\"b\":\"Ball\",\"b\":\"Cat\"} \n",
    "for i in d.items():\n",
    "    l.append(i)\n",
    "print(l)"
   ]
  },
  {
   "cell_type": "code",
   "execution_count": 23,
   "id": "6a952016",
   "metadata": {},
   "outputs": [
    {
     "name": "stdout",
     "output_type": "stream",
     "text": [
      "{'a': 'Apple', 'b': 'Cat'}\n"
     ]
    }
   ],
   "source": [
    "a= [('a', 'Apple'), ('b', 'Cat')]\n",
    "print(dict(a))"
   ]
  },
  {
   "cell_type": "code",
   "execution_count": 25,
   "id": "7e84ea29",
   "metadata": {},
   "outputs": [
    {
     "name": "stdout",
     "output_type": "stream",
     "text": [
      "{'a': 'Kiwi', 'b': 'Cat'}\n"
     ]
    }
   ],
   "source": [
    "d={'a':\"Apple\",\"b\":\"Ball\",\"b\":\"Cat\"}\n",
    "d[\"a\"]=\"Kiwi\"\n",
    "print(d)"
   ]
  },
  {
   "cell_type": "code",
   "execution_count": null,
   "id": "3847488c",
   "metadata": {},
   "outputs": [],
   "source": [
    "#del pop()\n",
    "del d[\"a\"]"
   ]
  },
  {
   "cell_type": "code",
   "execution_count": 30,
   "id": "87eaee74",
   "metadata": {},
   "outputs": [
    {
     "name": "stdout",
     "output_type": "stream",
     "text": [
      "{'b': 'Cat'}\n"
     ]
    }
   ],
   "source": [
    "d={'a':\"Apple\",\"b\":\"Ball\",\"b\":\"Cat\"}\n",
    "d.pop(\"a\")\n",
    "print(d)"
   ]
  },
  {
   "cell_type": "code",
   "execution_count": null,
   "id": "6708eefc",
   "metadata": {},
   "outputs": [],
   "source": [
    "#list tupule set dict as a value"
   ]
  },
  {
   "cell_type": "code",
   "execution_count": 34,
   "id": "07b3e850",
   "metadata": {},
   "outputs": [
    {
     "name": "stdout",
     "output_type": "stream",
     "text": [
      "{'Ram': ['765434567', '987654356'], 'Shyam': ['987654345', '87654799']}\n",
      "2\n",
      "<class 'dict'>\n"
     ]
    }
   ],
   "source": [
    "#list inside dict\n",
    "d={'Ram':[\"765434567\",\"987654356\"],\n",
    "   'Shyam':['987654345',\"87654799\"]}\n",
    "print(d)\n",
    "print(len(d))\n",
    "print(type(d))"
   ]
  },
  {
   "cell_type": "code",
   "execution_count": 36,
   "id": "2728bf13",
   "metadata": {},
   "outputs": [
    {
     "name": "stdout",
     "output_type": "stream",
     "text": [
      "['765434567', '987654356']\n",
      "765434567\n"
     ]
    }
   ],
   "source": [
    "print(d[\"Ram\"])\n",
    "print(d[\"Ram\"][0])"
   ]
  },
  {
   "cell_type": "code",
   "execution_count": 37,
   "id": "a015e9cd",
   "metadata": {},
   "outputs": [
    {
     "name": "stdout",
     "output_type": "stream",
     "text": [
      "('Ram', ['765434567', '987654356'])\n",
      "('Shyam', ['987654345', '87654799'])\n"
     ]
    }
   ],
   "source": [
    "d={'Ram':[\"765434567\",\"987654356\"],\n",
    "   'Shyam':['987654345',\"87654799\"]}\n",
    "for i in d.items():\n",
    "    print(i)"
   ]
  },
  {
   "cell_type": "code",
   "execution_count": 42,
   "id": "0057639e",
   "metadata": {},
   "outputs": [
    {
     "name": "stdout",
     "output_type": "stream",
     "text": [
      "Enter n= 2\n",
      "Enter name= Ram\n",
      "Enter number1= 9837636366\n",
      "Enter number2= 980003837\n",
      "Enter name= Moon\n",
      "Enter number1= 984770847\n",
      "Enter number2= 9876543456\n",
      "{'Ram': ['9837636366', '980003837'], 'Moon': ['984770847', '9876543456']}\n"
     ]
    }
   ],
   "source": [
    "info={}\n",
    "n= int(input(\"Enter n= \"))\n",
    "for i in range(n):\n",
    "    name = input(\"Enter name= \")\n",
    "    ntc= input(\"Enter number1= \")\n",
    "    ncell= input(\"Enter number2= \")\n",
    "    info[name]=[ntc,ncell\n",
    "               ]\n",
    "print(info)\n"
   ]
  },
  {
   "cell_type": "code",
   "execution_count": 50,
   "id": "82c7e429",
   "metadata": {},
   "outputs": [
    {
     "name": "stdout",
     "output_type": "stream",
     "text": [
      "{'Ram': ['980003837'], 'Moon': ['9876543456']}\n"
     ]
    }
   ],
   "source": [
    "d={'Ram': ['9837636366', '980003837'], 'Moon': ['984770847', '9876543456']}\n",
    "d[\"Ram\"][0]=\"98002734746\"\n",
    "del d[\"Moon\"][0]                                                               #list inside dic\n",
    "d[\"Ram\"].pop(0)\n",
    "\n",
    "print(d)"
   ]
  },
  {
   "cell_type": "code",
   "execution_count": 52,
   "id": "eb8bdeee",
   "metadata": {},
   "outputs": [
    {
     "name": "stdout",
     "output_type": "stream",
     "text": [
      "{'Ram': ['98002734746', '980003837'], 'Moon': ['984770847', '9876543456', '876545']}\n"
     ]
    }
   ],
   "source": [
    "d={'Ram': ['9837636366', '980003837'], 'Moon': ['984770847', '9876543456']}\n",
    "d[\"Ram\"][0]=\"98002734746\"\n",
    "d[\"Moon\"].append(\"876545\")\n",
    "print(d)"
   ]
  },
  {
   "cell_type": "code",
   "execution_count": 3,
   "id": "0e38feb0",
   "metadata": {},
   "outputs": [
    {
     "name": "stdout",
     "output_type": "stream",
     "text": [
      "Enter n= 2\n",
      "Enter name= Mohini\n",
      "Enter number1= 0987656789\n",
      "Enter name= Moon\n",
      "Enter number1= 098765\n",
      "[{'Name': 'Mohini', 'Number': '0987656789'}, {'Name': 'Moon', 'Number': '098765'}]\n"
     ]
    }
   ],
   "source": [
    "#dic inside list\n",
    "list=[]\n",
    "\n",
    "n= int(input(\"Enter n= \"))\n",
    "for i in range(n):\n",
    "    name = input(\"Enter name= \")\n",
    "    ntc= input(\"Enter number1= \")\n",
    "    info ={\"Name\":name,\"Number\":ntc}\n",
    "    list.append(info)\n",
    "print(list)    \n"
   ]
  },
  {
   "cell_type": "code",
   "execution_count": 9,
   "id": "96df4bdb",
   "metadata": {},
   "outputs": [
    {
     "name": "stdout",
     "output_type": "stream",
     "text": [
      "0987656789\n",
      "[{'Name': 'Ram', 'Number': '0987656789'}, {'Name': 'Moon', 'Number': '098765'}]\n"
     ]
    }
   ],
   "source": [
    "list = [{'Name': 'Mohini', 'Number': '0987656789'}, {'Name': 'Moon', 'Number': '098765'}]\n",
    "print(list[0][\"Number\"])\n",
    "list[0][\"Name\"]=\"Ram\"\n",
    "print(list)"
   ]
  },
  {
   "cell_type": "code",
   "execution_count": 16,
   "id": "426bf9f0",
   "metadata": {},
   "outputs": [
    {
     "name": "stdout",
     "output_type": "stream",
     "text": [
      "[{'Name': 'Ram', 'Number': '0987656789', 'Telephone': 414450}, {'Name': 'Moon', 'Number': '098765', 'Telephone': 414450}]\n"
     ]
    }
   ],
   "source": [
    "list[1][\"Telephone\"]= 414450\n",
    "print(list)"
   ]
  },
  {
   "cell_type": "code",
   "execution_count": null,
   "id": "166ce18c",
   "metadata": {},
   "outputs": [],
   "source": [
    "# # dict inside dict\n",
    "# d={<key>:{<key>:<value>}}\n"
   ]
  },
  {
   "cell_type": "code",
   "execution_count": 23,
   "id": "f1ef10b1",
   "metadata": {},
   "outputs": [
    {
     "name": "stdout",
     "output_type": "stream",
     "text": [
      "{'Name': 'Ram Prashad', 'NTC': '9876534567', 'NCELL': '9876543'}\n"
     ]
    }
   ],
   "source": [
    "d={1:{\"Name\":'Ram Prashad','NTC':'9876534567',\"NCELL\":\"9876543\"},'2':{\"Name\":'Ram','NTC':'987653456',\"NCELL\":\"98765439876\"}}\n",
    "print(d[1])"
   ]
  },
  {
   "cell_type": "code",
   "execution_count": 3,
   "id": "39dc7ebf",
   "metadata": {},
   "outputs": [
    {
     "name": "stdout",
     "output_type": "stream",
     "text": [
      "Enter n= 2\n",
      "Enter name= mohini\n",
      "Enter number1= 9876\n",
      "Enter number2= 987\n",
      "Enter name= mm\n",
      "Enter number1= 876\n",
      "Enter number2= 98765\n",
      "{1: {'Name': 'mohini', 'NTC': '9876', 'NCELL': '987'}, 2: {'Name': 'mm', 'NTC': '876', 'NCELL': '98765'}}\n"
     ]
    }
   ],
   "source": [
    "#dict inside dict\n",
    "data={}\n",
    "\n",
    "n= int(input(\"Enter n= \"))\n",
    "for i in range(1,n+1):\n",
    "    name = input(\"Enter name= \")\n",
    "    ntc= input(\"Enter number1= \")\n",
    "    ncell= input(\"Enter number2= \")\n",
    "    data[i]={\"Name\":name,'NTC':ntc,\"NCELL\":ncell}\n",
    "    \n",
    "print(data)    \n",
    "\n"
   ]
  },
  {
   "cell_type": "code",
   "execution_count": 4,
   "id": "e7acdd86",
   "metadata": {},
   "outputs": [
    {
     "name": "stdout",
     "output_type": "stream",
     "text": [
      "{1: {'Name': 'Mooo', 'NTC': '9876', 'NCELL': '987'}, 2: {'Name': 'mm', 'NTC': '876', 'NCELL': '98765'}}\n"
     ]
    }
   ],
   "source": [
    "data[1][\"Name\"]=\"Mooo\"\n",
    "print(data)"
   ]
  },
  {
   "cell_type": "code",
   "execution_count": 5,
   "id": "7b3b1686",
   "metadata": {},
   "outputs": [
    {
     "name": "stdout",
     "output_type": "stream",
     "text": [
      "{1: {'Name': 'Mooo', 'NTC': [87654323456, 98765432], 'NCELL': '987'}, 2: {'Name': 'mm', 'NTC': '876', 'NCELL': '98765'}}\n"
     ]
    }
   ],
   "source": [
    "data[1][\"NTC\"]=[87654323456,98765432]\n",
    "print(data)"
   ]
  },
  {
   "cell_type": "code",
   "execution_count": 11,
   "id": "3c1f8790",
   "metadata": {},
   "outputs": [
    {
     "name": "stdout",
     "output_type": "stream",
     "text": [
      "{1: {'Name': 'Akash', 'Physics': {'Th': 60, 'Pr': 20}}, 2: {'Name': 'Shyam', 'Physics': {'Th': 50, 'Pr': 25}}}\n"
     ]
    }
   ],
   "source": [
    "d={1:{\"Name\":\"Akash\",\"Physics\":{\"Th\":60,\"Pr\":20}},\n",
    " 2:{\"Name\":\"Shyam\",\"Physics\":{\"Th\":50,\"Pr\":25}}}\n",
    "print(d)"
   ]
  },
  {
   "cell_type": "code",
   "execution_count": 21,
   "id": "e078211b",
   "metadata": {},
   "outputs": [
    {
     "name": "stdout",
     "output_type": "stream",
     "text": [
      "Enter n= 2\n",
      "Enter name= moo\n",
      "Enter sub= 445\n",
      "Enter th= 44\n",
      "Enter prac= 4\n",
      "Enter name= \n",
      "Enter sub= 4\n",
      "Enter th= r\n",
      "Enter prac= g\n",
      "{1: {'Name': 'moo', 'Subject': '445', 'Theory_marks': '44', 'Practical_marks': '4'}, 2: {'Name': '', 'Subject': '4', 'Theory_marks': 'r', 'Practical_marks': 'g'}}\n"
     ]
    }
   ],
   "source": [
    "#dict inside dict\n",
    "data={}\n",
    "\n",
    "n= int(input(\"Enter n= \"))\n",
    "for i in range(1,n+1):\n",
    "    name = input(\"Enter name= \")\n",
    "    Subject= input(\"Enter sub= \")\n",
    "    Theory_marks= input(\"Enter th= \")\n",
    "    Practical_marks= input(\"Enter prac= \")\n",
    "    \n",
    "    data[i]={\"Name\":name,\"Subject\":Subject,\"Theory_marks\":Theory_marks,\"Practical_marks\":Practical_marks}\n",
    "    \n",
    "print(data)    \n",
    "\n"
   ]
  },
  {
   "cell_type": "raw",
   "id": "b353850a",
   "metadata": {},
   "source": []
  },
  {
   "cell_type": "markdown",
   "id": "e1bd508a",
   "metadata": {},
   "source": [
    "#### "
   ]
  }
 ],
 "metadata": {
  "kernelspec": {
   "display_name": "Python 3 (ipykernel)",
   "language": "python",
   "name": "python3"
  },
  "language_info": {
   "codemirror_mode": {
    "name": "ipython",
    "version": 3
   },
   "file_extension": ".py",
   "mimetype": "text/x-python",
   "name": "python",
   "nbconvert_exporter": "python",
   "pygments_lexer": "ipython3",
   "version": "3.9.7"
  }
 },
 "nbformat": 4,
 "nbformat_minor": 5
}
