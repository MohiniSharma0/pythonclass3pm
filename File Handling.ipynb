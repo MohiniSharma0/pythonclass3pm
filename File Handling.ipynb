{
 "cells": [
  {
   "cell_type": "code",
   "execution_count": null,
   "id": "d8145e55",
   "metadata": {},
   "outputs": [],
   "source": [
    "# # file =open(<file_name>,<mode>)\n",
    "# # file.close()\n",
    "# modes\n",
    "# r-read\n",
    "# w-write\n",
    "# a-append\n",
    "# x=create"
   ]
  },
  {
   "cell_type": "code",
   "execution_count": 1,
   "id": "d3047205",
   "metadata": {},
   "outputs": [],
   "source": [
    "file=open(\"data.txt\",\"x\")\n",
    "file.close()"
   ]
  },
  {
   "cell_type": "code",
   "execution_count": 14,
   "id": "e2631338",
   "metadata": {},
   "outputs": [
    {
     "name": "stdout",
     "output_type": "stream",
     "text": [
      "1.Hello World\n",
      "2.Hello World\n",
      "3.Hello World\n",
      "4.Hello World\n",
      "5.Hello World\n",
      "6.Hello World\n",
      "7.Hello World\n",
      "<class 'str'>\n"
     ]
    }
   ],
   "source": [
    "file=open(\"data.txt\",\"r\")\n",
    "data = file.read()\n",
    "print(data)     #print(file.read())\n",
    "print(type(data))\n",
    "file.close()"
   ]
  },
  {
   "cell_type": "code",
   "execution_count": 6,
   "id": "7fc28a6f",
   "metadata": {},
   "outputs": [
    {
     "data": {
      "text/plain": [
       "'1.Hello World\\n2.Hello World\\n3.Hello World\\n4.Hello World\\n5.Hello World\\n6.Hello World\\n7.Hello World'"
      ]
     },
     "execution_count": 6,
     "metadata": {},
     "output_type": "execute_result"
    }
   ],
   "source": [
    "data"
   ]
  },
  {
   "cell_type": "code",
   "execution_count": 16,
   "id": "77293f81",
   "metadata": {},
   "outputs": [
    {
     "data": {
      "text/plain": [
       "['1.Hello World',\n",
       " '2.Hello World',\n",
       " '3.Hello World',\n",
       " '4.Hello World',\n",
       " '5.Hello World',\n",
       " '6.Hello World',\n",
       " '7.Hello World']"
      ]
     },
     "execution_count": 16,
     "metadata": {},
     "output_type": "execute_result"
    }
   ],
   "source": [
    "data.split('\\n')"
   ]
  },
  {
   "cell_type": "code",
   "execution_count": 17,
   "id": "287d3ec2",
   "metadata": {},
   "outputs": [
    {
     "data": {
      "text/plain": [
       "'3.Hello World'"
      ]
     },
     "execution_count": 17,
     "metadata": {},
     "output_type": "execute_result"
    }
   ],
   "source": [
    "datas=data.split('\\n')\n",
    "datas[2]"
   ]
  },
  {
   "cell_type": "code",
   "execution_count": null,
   "id": "d4199b79",
   "metadata": {},
   "outputs": [
    {
     "name": "stdout",
     "output_type": "stream",
     "text": [
      "Enter n =2\n"
     ]
    }
   ],
   "source": [
    "# File Creating\n",
    "s=\"\"\n",
    "n=int(input(\"Enter n =\"))\n",
    "file=open(\"data1.txt\",\"a\")\n",
    "for i in range(n):\n",
    "    name=(input(\"Enter name=\"))\n",
    "    phone= int(input(\"Enter phone=\"))\n",
    "    info= f\"{name} {phone}\\n\"\n",
    "    s=s+info\n",
    "    \n",
    "print(s)\n",
    "file.write(s)\n",
    "file.close()"
   ]
  },
  {
   "cell_type": "code",
   "execution_count": 6,
   "id": "c33828c0",
   "metadata": {},
   "outputs": [
    {
     "name": "stdout",
     "output_type": "stream",
     "text": [
      "Enter n =2\n",
      "Enter name=Mohin\n",
      "Enter phone=897346\n",
      "Enter name=Moon\n",
      "Enter phone=974854683\n",
      "Mohin,897346\n",
      "Moon,974854683\n",
      "\n"
     ]
    }
   ],
   "source": [
    "# File Creating\n",
    "s=\"\"\n",
    "n=int(input(\"Enter n =\"))\n",
    "file=open(\"data.csv\",\"w\")\n",
    "for i in range(n):\n",
    "    name=(input(\"Enter name=\"))\n",
    "    phone= int(input(\"Enter phone=\"))\n",
    "    info= f\"{name},{phone}\\n\"\n",
    "    s=s+info\n",
    "    \n",
    "print(s)\n",
    "file.write(\"Name,Phone\\n\")\n",
    "file.write(s)\n",
    "file.close()"
   ]
  },
  {
   "cell_type": "code",
   "execution_count": 9,
   "id": "97b04343",
   "metadata": {},
   "outputs": [
    {
     "name": "stdout",
     "output_type": "stream",
     "text": [
      "Mohin,897346\n",
      "Moon,974854683\n",
      "\n",
      "\n",
      "Moon,974854683\n",
      "\n"
     ]
    }
   ],
   "source": [
    "print(s)\n",
    "new_data=s.replace(\"Mohin,897346\",\"\")\n",
    "print(new_data)\n",
    "b=open(\"data.csv\",\"w\")\n",
    "b.write(new_data)\n",
    "b.close()"
   ]
  },
  {
   "cell_type": "code",
   "execution_count": null,
   "id": "feff2b5f",
   "metadata": {},
   "outputs": [],
   "source": []
  }
 ],
 "metadata": {
  "kernelspec": {
   "display_name": "Python 3 (ipykernel)",
   "language": "python",
   "name": "python3"
  },
  "language_info": {
   "codemirror_mode": {
    "name": "ipython",
    "version": 3
   },
   "file_extension": ".py",
   "mimetype": "text/x-python",
   "name": "python",
   "nbconvert_exporter": "python",
   "pygments_lexer": "ipython3",
   "version": "3.9.7"
  }
 },
 "nbformat": 4,
 "nbformat_minor": 5
}
