{
 "cells": [
  {
   "cell_type": "code",
   "execution_count": 6,
   "id": "fc693baf",
   "metadata": {},
   "outputs": [],
   "source": [
    "class Hello:\n",
    "    pass\n",
    "obj =Hello()"
   ]
  },
  {
   "cell_type": "code",
   "execution_count": 5,
   "id": "ecfd02ae",
   "metadata": {},
   "outputs": [
    {
     "name": "stdout",
     "output_type": "stream",
     "text": [
      "Hello world\n"
     ]
    }
   ],
   "source": [
    "class Hello:\n",
    "    print(\"Hello world\")\n",
    "obj=Hello()"
   ]
  },
  {
   "cell_type": "code",
   "execution_count": 13,
   "id": "b58cf587",
   "metadata": {},
   "outputs": [
    {
     "name": "stdout",
     "output_type": "stream",
     "text": [
      "Hello World\n"
     ]
    }
   ],
   "source": [
    "class Hello:     #class\n",
    "    def hello(self): #method\n",
    "        print(\"Hello World\")\n",
    "obj=Hello()  #object\n",
    "obj.hello()"
   ]
  },
  {
   "cell_type": "code",
   "execution_count": 15,
   "id": "cd21627b",
   "metadata": {},
   "outputs": [
    {
     "name": "stdout",
     "output_type": "stream",
     "text": [
      "Hello World\n"
     ]
    }
   ],
   "source": [
    "class Hello:     #class\n",
    "    @staticmethod\n",
    "    def hello(): #method\n",
    "        print(\"Hello World\")\n",
    "obj=Hello()  #object\n",
    "obj.hello()"
   ]
  },
  {
   "cell_type": "code",
   "execution_count": 20,
   "id": "f4622749",
   "metadata": {},
   "outputs": [
    {
     "name": "stdout",
     "output_type": "stream",
     "text": [
      "Enter l=4\n",
      "Enter b=5\n",
      "20\n"
     ]
    }
   ],
   "source": [
    "class Cal:\n",
    "    def area(self):\n",
    "        l=int(input(\"Enter l=\"))\n",
    "        b=int(input(\"Enter b=\"))\n",
    "        a=l*b\n",
    "        return a\n",
    "        \n",
    "obj=Cal()\n",
    "print(obj.area())"
   ]
  },
  {
   "cell_type": "code",
   "execution_count": 1,
   "id": "6940ab0f",
   "metadata": {},
   "outputs": [
    {
     "name": "stdout",
     "output_type": "stream",
     "text": [
      "Enter l=5\n",
      "Enter b=6\n",
      "30\n"
     ]
    }
   ],
   "source": [
    "class Cal:\n",
    "    def area(self,x,y):\n",
    "        \n",
    "        a=x*y\n",
    "        return a\n",
    "l=int(input(\"Enter l=\"))\n",
    "b=int(input(\"Enter b=\"))\n",
    "        \n",
    "obj=Cal()\n",
    "print(obj.area(l,b))"
   ]
  },
  {
   "cell_type": "code",
   "execution_count": 9,
   "id": "484364cc",
   "metadata": {},
   "outputs": [
    {
     "name": "stdout",
     "output_type": "stream",
     "text": [
      "Enter l=4\n",
      "Enter b=4\n",
      "Enter h= 4\n",
      "16\n",
      "64\n"
     ]
    }
   ],
   "source": [
    "class Cal:\n",
    "    def area(self,x,y):\n",
    "        a=x*y\n",
    "        return a\n",
    "    def vol(self,x,y,z):\n",
    "        v=x*y*z\n",
    "        return v\n",
    "l=int(input(\"Enter l=\"))\n",
    "b=int(input(\"Enter b=\"))\n",
    "h=int(input(\"Enter h= \"))\n",
    "obj = Cal()\n",
    "print(obj.area(l,b))\n",
    "print(obj.vol(l,b,h))"
   ]
  },
  {
   "cell_type": "code",
   "execution_count": 19,
   "id": "b443844a",
   "metadata": {},
   "outputs": [
    {
     "name": "stdout",
     "output_type": "stream",
     "text": [
      "Enter l=3\n",
      "Enter b=3\n",
      "Enter h= 3\n",
      "The area is  9\n",
      "The volume is  27\n"
     ]
    }
   ],
   "source": [
    "\n",
    "class area:\n",
    "    def area(self,x,y):\n",
    "        a=x*y\n",
    "        return a\n",
    "class Vol:\n",
    "    def vol(self,x,y,z):\n",
    "        v=x*y*z\n",
    "        return v\n",
    "l=int(input(\"Enter l=\"))\n",
    "b=int(input(\"Enter b=\"))\n",
    "h=int(input(\"Enter h= \"))\n",
    "obj1 = area()\n",
    "obj2 =Vol()\n",
    "print(\"The area is \",obj.area(l,b))\n",
    "print(\"The volume is \",obj.vol(l,b,h))\n"
   ]
  },
  {
   "cell_type": "code",
   "execution_count": 23,
   "id": "89190558",
   "metadata": {},
   "outputs": [
    {
     "name": "stdout",
     "output_type": "stream",
     "text": [
      "Enter l=3\n",
      "Enter b=3\n",
      "Enter h=3\n",
      "9\n",
      "27\n"
     ]
    }
   ],
   "source": [
    "class Cal:\n",
    "    def __init__(self,l,b,h):\n",
    "        self.l=l\n",
    "        self.b=b\n",
    "        self.h=h\n",
    "    def area(self):\n",
    "        a=self.l*self.b\n",
    "        return a\n",
    "    def vol(self):\n",
    "        v=self.l*self.b*self.h\n",
    "        return v\n",
    "l=int(input(\"Enter l=\"))\n",
    "b=int(input(\"Enter b=\"))\n",
    "h=int(input(\"Enter h=\"))\n",
    "        \n",
    "obj=Cal(l,b,h)\n",
    "print(obj.area())\n",
    "print(obj.vol())"
   ]
  },
  {
   "cell_type": "code",
   "execution_count": 11,
   "id": "ae3e10c5",
   "metadata": {},
   "outputs": [
    {
     "name": "stdout",
     "output_type": "stream",
     "text": [
      "Ram\n",
      "<class '__main__.information'>\n"
     ]
    }
   ],
   "source": [
    " class information:\n",
    "        def __init__(self,name,age,add):\n",
    "            self.name= name\n",
    "            self.add=add\n",
    "            self.age=age \n",
    "        def __str__(self):\n",
    "            return self.name\n",
    "obj=information(\"Ram\",23,\"Ktm\")\n",
    "print(obj)\n",
    "print(type(obj))"
   ]
  },
  {
   "cell_type": "code",
   "execution_count": 14,
   "id": "1610ec4f",
   "metadata": {},
   "outputs": [
    {
     "name": "stdout",
     "output_type": "stream",
     "text": [
      "{'name': 'Ram', 'age': 23, 'add': 'Ktm'}\n"
     ]
    }
   ],
   "source": [
    " class information:\n",
    "        def __init__(self,name,age,add):\n",
    "            self.name= name\n",
    "            self.add=add\n",
    "            self.age=age \n",
    "        def __repr__(self):\n",
    "            return {\"name\":self.name,\"age\":self.age,\"add\":self.add}\n",
    "obj=information(\"Ram\",23,\"Ktm\")\n",
    "print(obj.__repr__())\n"
   ]
  },
  {
   "cell_type": "code",
   "execution_count": 17,
   "id": "73daebb0",
   "metadata": {},
   "outputs": [
    {
     "name": "stdout",
     "output_type": "stream",
     "text": [
      "900\n",
      "800\n"
     ]
    }
   ],
   "source": [
    "class Price:\n",
    "    def __init__(self,x):\n",
    "        self.x=x\n",
    "obj=Price(900)\n",
    "obj1=Price(800)\n",
    "print(obj.x)\n",
    "print(obj1.x)"
   ]
  },
  {
   "cell_type": "code",
   "execution_count": null,
   "id": "e2d52557",
   "metadata": {},
   "outputs": [],
   "source": []
  },
  {
   "cell_type": "markdown",
   "id": "4b9edde4",
   "metadata": {},
   "source": []
  },
  {
   "cell_type": "code",
   "execution_count": null,
   "id": "a9168f14",
   "metadata": {},
   "outputs": [],
   "source": []
  }
 ],
 "metadata": {
  "kernelspec": {
   "display_name": "Python 3 (ipykernel)",
   "language": "python",
   "name": "python3"
  },
  "language_info": {
   "codemirror_mode": {
    "name": "ipython",
    "version": 3
   },
   "file_extension": ".py",
   "mimetype": "text/x-python",
   "name": "python",
   "nbconvert_exporter": "python",
   "pygments_lexer": "ipython3",
   "version": "3.9.7"
  }
 },
 "nbformat": 4,
 "nbformat_minor": 5
}
