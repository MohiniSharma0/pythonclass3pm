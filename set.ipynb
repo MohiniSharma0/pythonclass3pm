{
 "cells": [
  {
   "cell_type": "code",
   "execution_count": null,
   "id": "61a0aa07",
   "metadata": {},
   "outputs": [],
   "source": [
    "# Set\n",
    "# not indexed\n",
    "# no duplicate value\n",
    "# unordered\n",
    "# mutable\n",
    "# s= set()"
   ]
  },
  {
   "cell_type": "code",
   "execution_count": 2,
   "id": "f51de9a4",
   "metadata": {},
   "outputs": [
    {
     "name": "stdout",
     "output_type": "stream",
     "text": [
      "{'Ball', 'Apple', 'Cat'}\n"
     ]
    },
    {
     "data": {
      "text/plain": [
       "set"
      ]
     },
     "execution_count": 2,
     "metadata": {},
     "output_type": "execute_result"
    }
   ],
   "source": [
    "\n",
    "a={\"Apple\",\"Ball\",\"Cat\"}\n",
    "print(a)\n",
    "type(a)"
   ]
  },
  {
   "cell_type": "code",
   "execution_count": 4,
   "id": "370f3721",
   "metadata": {},
   "outputs": [
    {
     "name": "stdout",
     "output_type": "stream",
     "text": [
      "{'Goat', 'Ball', 'Kill', 'Apple', 'Cat', 'Mango'}\n"
     ]
    }
   ],
   "source": [
    "a={\"Apple\",\"Ball\",\"Cat\",\"Mango\",\"Kill\"}\n",
    "a.add(\"Goat\")\n",
    "print(a)"
   ]
  },
  {
   "cell_type": "code",
   "execution_count": 8,
   "id": "cd4e7ad6",
   "metadata": {},
   "outputs": [
    {
     "name": "stdout",
     "output_type": "stream",
     "text": [
      "Enter n= 2\n",
      "Enter x= moom\n",
      "Enter x= mok\n",
      "{'moom', 'mok'}\n"
     ]
    }
   ],
   "source": [
    "s=set()\n",
    "n=int(input(\"Enter n= \"))\n",
    "for i in range(n):\n",
    "    x=input(\"Enter x= \")\n",
    "    s.add(x)\n",
    "print(s)"
   ]
  },
  {
   "cell_type": "code",
   "execution_count": 10,
   "id": "6ea1f588",
   "metadata": {},
   "outputs": [
    {
     "name": "stdout",
     "output_type": "stream",
     "text": [
      "['Ball', 'Mango', 'Apple', 'Cat']\n"
     ]
    }
   ],
   "source": [
    "a=[\"Apple\",\"Ball\",\"Apple\",\"Mango\",\"Cat\"]\n",
    "b=set(a)\n",
    "c=list(b)\n",
    "print(c)"
   ]
  },
  {
   "cell_type": "code",
   "execution_count": 12,
   "id": "69c38401",
   "metadata": {},
   "outputs": [
    {
     "data": {
      "text/plain": [
       "{'Ram', 'Sita'}"
      ]
     },
     "execution_count": 12,
     "metadata": {},
     "output_type": "execute_result"
    }
   ],
   "source": [
    "abc={\"Poly\",\"Milan\",\"Moon\",\"Sita\",\"Ram\"}\n",
    "xyz={\"Ram\",\"Nabin\",\"Sita\",\"loli\"}\n",
    "abc.union(xyz)\n",
    "abc.intersection(xyz)"
   ]
  },
  {
   "cell_type": "code",
   "execution_count": 13,
   "id": "70ad1dbe",
   "metadata": {},
   "outputs": [
    {
     "data": {
      "text/plain": [
       "{'Milan', 'Moon', 'Poly'}"
      ]
     },
     "execution_count": 13,
     "metadata": {},
     "output_type": "execute_result"
    }
   ],
   "source": [
    "abc={\"Poly\",\"Milan\",\"Moon\",\"Sita\",\"Ram\"}\n",
    "xyz={\"Ram\",\"Nabin\",\"Sita\",\"loli\"}\n",
    "abc.difference(xyz)"
   ]
  },
  {
   "cell_type": "code",
   "execution_count": 16,
   "id": "d80133c7",
   "metadata": {},
   "outputs": [
    {
     "name": "stdout",
     "output_type": "stream",
     "text": [
      "{'Nimesh'}\n"
     ]
    }
   ],
   "source": [
    "U={\"Poly\",\"Milan\",\"Moon\",\"Sita\",\"Ram\",\"Nabin\",\"Sita\",\"loli\",\"Nimesh\"}\n",
    "abc={\"Poly\",\"Milan\",\"Moon\",\"Sita\",\"Ram\"}\n",
    "xyz={\"Ram\",\"Nabin\",\"Sita\",\"loli\"}\n",
    "x= abc.union(xyz)\n",
    "un=U.difference(x)\n",
    "print(un)\n"
   ]
  },
  {
   "cell_type": "code",
   "execution_count": 17,
   "id": "426cb2b1",
   "metadata": {},
   "outputs": [
    {
     "name": "stdout",
     "output_type": "stream",
     "text": [
      "set()\n"
     ]
    }
   ],
   "source": [
    "abc={\"Poly\",\"Milan\",\"Moon\",\"Sita\",\"Ram\"}\n",
    "xyz={\"Ram\",\"Nabin\",\"Sita\",\"loli\"}\n",
    "x= abc.union(xyz)\n",
    "y=abc.intersection(xyz)\n",
    "un=y.difference(x)\n",
    "print(un)"
   ]
  },
  {
   "cell_type": "code",
   "execution_count": null,
   "id": "855c6055",
   "metadata": {},
   "outputs": [],
   "source": []
  }
 ],
 "metadata": {
  "kernelspec": {
   "display_name": "Python 3 (ipykernel)",
   "language": "python",
   "name": "python3"
  },
  "language_info": {
   "codemirror_mode": {
    "name": "ipython",
    "version": 3
   },
   "file_extension": ".py",
   "mimetype": "text/x-python",
   "name": "python",
   "nbconvert_exporter": "python",
   "pygments_lexer": "ipython3",
   "version": "3.9.7"
  }
 },
 "nbformat": 4,
 "nbformat_minor": 5
}
