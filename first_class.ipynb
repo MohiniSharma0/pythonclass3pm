{
 "cells": [
  {
   "cell_type": "code",
   "execution_count": 9,
   "id": "29cfa0e9",
   "metadata": {},
   "outputs": [
    {
     "name": "stdout",
     "output_type": "stream",
     "text": [
      "MohiniMohini\n"
     ]
    }
   ],
   "source": [
    "a=\"Mohini\"\n",
    "print(a)"
   ]
  },
  {
   "cell_type": "raw",
   "id": "3455cf35",
   "metadata": {},
   "source": []
  },
  {
   "cell_type": "code",
   "execution_count": 10,
   "id": "1dea542c",
   "metadata": {},
   "outputs": [
    {
     "name": "stdout",
     "output_type": "stream",
     "text": [
      "<class 'str'>\n"
     ]
    }
   ],
   "source": [
    "print(type(a))"
   ]
  },
  {
   "cell_type": "code",
   "execution_count": null,
   "id": "0b1ca47c",
   "metadata": {},
   "outputs": [
    {
     "name": "stdout",
     "output_type": "stream",
     "text": [
      "enter a =4\n"
     ]
    }
   ],
   "source": [
    "a=input(\"enter a =\")\n",
    "b=input(\"enter b= \")\n",
    "c =int(a)+int(b)\n",
    "print(c)\n"
   ]
  },
  {
   "cell_type": "code",
   "execution_count": 11,
   "id": "54fb55d9",
   "metadata": {},
   "outputs": [
    {
     "name": "stdout",
     "output_type": "stream",
     "text": [
      "enter the value of p =5\n",
      "enter the vlaue of t =4\n",
      "enter the value of r =3\n",
      "The value of SI is 0.6\n"
     ]
    }
   ],
   "source": [
    "p=int(input(\"enter the value of p =\"))\n",
    "t=int(input(\"enter the vlaue of t =\"))\n",
    "r=int(input(\"enter the value of r =\"))\n",
    "SI=(p*t*r)/100\n",
    "print(\"The value of SI is\",SI)"
   ]
  },
  {
   "cell_type": "code",
   "execution_count": null,
   "id": "95069f5b",
   "metadata": {},
   "outputs": [],
   "source": [
    "name=str(moon)\n",
    "print(name)"
   ]
  },
  {
   "cell_type": "code",
   "execution_count": null,
   "id": "b8ec3215",
   "metadata": {},
   "outputs": [],
   "source": []
  }
 ],
 "metadata": {
  "kernelspec": {
   "display_name": "Python 3 (ipykernel)",
   "language": "python",
   "name": "python3"
  },
  "language_info": {
   "codemirror_mode": {
    "name": "ipython",
    "version": 3
   },
   "file_extension": ".py",
   "mimetype": "text/x-python",
   "name": "python",
   "nbconvert_exporter": "python",
   "pygments_lexer": "ipython3",
   "version": "3.9.7"
  }
 },
 "nbformat": 4,
 "nbformat_minor": 5
}
