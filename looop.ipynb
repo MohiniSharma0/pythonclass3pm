{
 "cells": [
  {
   "cell_type": "code",
   "execution_count": 1,
   "id": "0b0b3c70",
   "metadata": {},
   "outputs": [],
   "source": [
    "# for\n",
    "# while"
   ]
  },
  {
   "cell_type": "code",
   "execution_count": null,
   "id": "b6cf0a60",
   "metadata": {},
   "outputs": [],
   "source": []
  },
  {
   "cell_type": "code",
   "execution_count": null,
   "id": "6cdfe83a",
   "metadata": {},
   "outputs": [],
   "source": [
    "# range()\n",
    "# range(1,5,2) (i=0;i<5;i=i+2)"
   ]
  },
  {
   "cell_type": "raw",
   "id": "d7422dab",
   "metadata": {},
   "source": []
  },
  {
   "cell_type": "code",
   "execution_count": 15,
   "id": "f4453a05",
   "metadata": {},
   "outputs": [
    {
     "name": "stdout",
     "output_type": "stream",
     "text": [
      "1 hello world\n",
      "3 hello world\n",
      "5 hello world\n"
     ]
    }
   ],
   "source": [
    "for i in range(1,6,2):\n",
    "    print(i,\"hello world\")\n"
   ]
  },
  {
   "cell_type": "code",
   "execution_count": 18,
   "id": "c92ae9e3",
   "metadata": {},
   "outputs": [
    {
     "name": "stdout",
     "output_type": "stream",
     "text": [
      "Enter n =2\n",
      "Enter x=moon\n",
      "Enter x=mohini\n",
      "moon mohini \n"
     ]
    }
   ],
   "source": [
    "# sum of n strings\n",
    "s=\"\"\n",
    "n=int(input(\"Enter n =\"))\n",
    "for i in range(n):\n",
    "    x= (input(\"Enter x=\"))\n",
    "    s=s+x+\" \"\n",
    "print(s)"
   ]
  },
  {
   "cell_type": "code",
   "execution_count": 1,
   "id": "ac39c007",
   "metadata": {},
   "outputs": [
    {
     "name": "stdout",
     "output_type": "stream",
     "text": [
      "Enter n =3\n",
      "Enter x=3\n",
      "3\n",
      "Enter x=4\n",
      "7\n",
      "Enter x=5\n",
      "12\n"
     ]
    }
   ],
   "source": [
    "s=0\n",
    "n=int(input(\"Enter n =\"))\n",
    "for i in range(n):\n",
    "    x= int(input(\"Enter x=\"))\n",
    "    s=s+x\n",
    "    print(s)"
   ]
  },
  {
   "cell_type": "code",
   "execution_count": 20,
   "id": "a18b33df",
   "metadata": {},
   "outputs": [
    {
     "name": "stdout",
     "output_type": "stream",
     "text": [
      "Enter n =2\n",
      "Enter name=moon\n",
      "Enter phone=876543\n",
      "Enter name=mohini\n",
      "Enter phone=987654\n",
      "moon 876543\n",
      "mohini 987654\n",
      "\n"
     ]
    }
   ],
   "source": [
    "s=\"\"\n",
    "n=int(input(\"Enter n =\"))\n",
    "for i in range(n):\n",
    "    name= (input(\"Enter name=\"))\n",
    "    phone= (input(\"Enter phone=\"))\n",
    "    s=s+name+\" \"+phone+\"\\n\"\n",
    "print(s)"
   ]
  },
  {
   "cell_type": "code",
   "execution_count": null,
   "id": "37f4c8d0",
   "metadata": {},
   "outputs": [],
   "source": [
    "# WAP to calculate factorial of  numbers\n",
    "# WAP to calculate total amount of a bill"
   ]
  },
  {
   "cell_type": "code",
   "execution_count": 10,
   "id": "55e16c62",
   "metadata": {},
   "outputs": [
    {
     "name": "stdout",
     "output_type": "stream",
     "text": [
      "Enter any no: 5\n",
      "the factorial is 120\n"
     ]
    }
   ],
   "source": [
    "\n",
    "n=int(input(\"Enter any no: \" ))\n",
    "fact=1\n",
    "for i in range(1,n+1):\n",
    "    fact=fact*i\n",
    "    \n",
    "    \n",
    "    \n",
    "\n",
    "print(\"the factorial is\",fact)\n"
   ]
  },
  {
   "cell_type": "code",
   "execution_count": 1,
   "id": "b2759bea",
   "metadata": {},
   "outputs": [
    {
     "name": "stdout",
     "output_type": "stream",
     "text": [
      "Enter the no of items: 2\n",
      "Enter the product: milk\n",
      "Enter the price :100\n",
      "Enter the quantity: 2\n",
      "Enter the product: bread\n",
      "Enter the price :50\n",
      "Enter the quantity: 1\n",
      "The bill is =\n",
      " milk 100 2.0 200.0\n",
      "bread 50 1.0 50.0\n",
      "\n",
      "All total= 250.0\n"
     ]
    }
   ],
   "source": [
    "items=int(input(\"Enter the no of items: \"))\n",
    "s=\"\"\n",
    "all_total = 0\n",
    "for i in range(items):\n",
    "    product=input(\"Enter the product: \")\n",
    "    price=int(input(\"Enter the price :\"))\n",
    "    quantity=float(input(\"Enter the quantity: \"))\n",
    "    total= price*quantity\n",
    "    s=s+(product)+\" \"+str(price)+\" \"+str(quantity)+ \" \"+str(total)+\"\\n\"\n",
    "    all_total=all_total+total\n",
    "print(\"The bill is =\\n\",s)\n",
    "print(\"All total=\",all_total)\n",
    "    \n",
    "    \n",
    "    \n",
    "    "
   ]
  },
  {
   "cell_type": "markdown",
   "id": "80acedf9",
   "metadata": {},
   "source": [
    "## "
   ]
  },
  {
   "cell_type": "code",
   "execution_count": 4,
   "id": "8a22b329",
   "metadata": {},
   "outputs": [
    {
     "name": "stdout",
     "output_type": "stream",
     "text": [
      "Enter n= 2\n",
      "Enter x= 4\n",
      "Enter x= 6\n",
      "10\n"
     ]
    }
   ],
   "source": [
    "s=0\n",
    "i=0\n",
    "n=int(input(\"Enter n= \"))\n",
    "while i<n:\n",
    "  x =int(input(\"Enter x= \"))\n",
    "  s=s+x\n",
    "  i=i+1\n",
    "print(s)"
   ]
  },
  {
   "cell_type": "markdown",
   "id": "8873964b",
   "metadata": {},
   "source": [
    "<!-- control statement\n",
    "break\n",
    "continue\n",
    "pass -->"
   ]
  },
  {
   "cell_type": "code",
   "execution_count": 5,
   "id": "b67cb92e",
   "metadata": {},
   "outputs": [
    {
     "name": "stdout",
     "output_type": "stream",
     "text": [
      "P\n",
      "y\n",
      "t\n",
      "h\n",
      "o\n",
      "n\n",
      " \n"
     ]
    }
   ],
   "source": [
    "a=\"Python \"\n",
    "for i in a:\n",
    "    print(i)"
   ]
  },
  {
   "cell_type": "code",
   "execution_count": 1,
   "id": "7122b955",
   "metadata": {},
   "outputs": [
    {
     "name": "stdout",
     "output_type": "stream",
     "text": [
      "P y t h o n   "
     ]
    }
   ],
   "source": [
    "a=\"Python \"\n",
    "for i in a:\n",
    "    print(i,end=\" \")"
   ]
  },
  {
   "cell_type": "code",
   "execution_count": 18,
   "id": "852e0975",
   "metadata": {},
   "outputs": [
    {
     "name": "stdout",
     "output_type": "stream",
     "text": [
      "H\n",
      "l\n",
      "l\n",
      "o\n",
      "W\n",
      "o\n",
      "r\n",
      "l\n",
      "d\n"
     ]
    }
   ],
   "source": [
    "a=\"Hello World\"\n",
    "for i in a:\n",
    "    if i != \"e\" and i!=\" \":\n",
    "     print(i)\n",
    "    "
   ]
  },
  {
   "cell_type": "code",
   "execution_count": 3,
   "id": "f665be37",
   "metadata": {},
   "outputs": [
    {
     "name": "stdout",
     "output_type": "stream",
     "text": [
      "H e l l "
     ]
    }
   ],
   "source": [
    "a = \"Hello World\"\n",
    "for i in a:\n",
    "    if i ==\" \":\n",
    "        break\n",
    "    print(i,end=\" \")"
   ]
  },
  {
   "cell_type": "code",
   "execution_count": 2,
   "id": "5ca24a9d",
   "metadata": {},
   "outputs": [
    {
     "name": "stdout",
     "output_type": "stream",
     "text": [
      "Enter n =2\n",
      "Enter name=mohini\n",
      "Enter phone=89876543456\n",
      "Enter name=moon\n",
      "Enter phone=9876543\n",
      "Enter name=ram\n",
      "Enter phone=9876543\n",
      "mohini 89876543456\n",
      "moon 9876543\n",
      "ram 9876543\n",
      "\n"
     ]
    }
   ],
   "source": [
    "i=0\n",
    "s=\"\"\n",
    "n=int(input(\"Enter n =\"))\n",
    "while i<=n:\n",
    "    name=(input(\"Enter name=\"))\n",
    "    phone= int(input(\"Enter phone=\"))\n",
    "    s=s+str(name)+ \" \" + str(phone)+\"\\n\"\n",
    "    str(phone)\n",
    "    \n",
    "    i=i+1\n",
    "print(s)"
   ]
  },
  {
   "cell_type": "code",
   "execution_count": 21,
   "id": "86cb7723",
   "metadata": {},
   "outputs": [
    {
     "name": "stdout",
     "output_type": "stream",
     "text": [
      "Enter x= 5\n",
      "5 * 1 = 5\n",
      "5 * 2 = 10\n",
      "5 * 3 = 15\n",
      "5 * 4 = 20\n",
      "5 * 5 = 25\n",
      "5 * 6 = 30\n",
      "5 * 7 = 35\n",
      "5 * 8 = 40\n",
      "5 * 9 = 45\n",
      "5 * 10 = 50\n"
     ]
    }
   ],
   "source": [
    "# Multiplication table\n",
    "x= int(input(\"Enter x= \"))\n",
    "for i in range(1,11):\n",
    "  print(x,\"*\",i,\"=\",x*i)"
   ]
  },
  {
   "cell_type": "code",
   "execution_count": null,
   "id": "0ade4c4e",
   "metadata": {},
   "outputs": [],
   "source": [
    "# WAP to find the if the given no is prime or composite\n",
    "# WAP to draw patterns:\n",
    "# *\n",
    "# **\n",
    "# ***\n",
    "# ****\n",
    "# *****\n",
    "# WAP to remove all digits from a given strings(0-9)\n",
    "# WAP to make a result managment system"
   ]
  },
  {
   "cell_type": "code",
   "execution_count": 19,
   "id": "67bc5019",
   "metadata": {},
   "outputs": [
    {
     "name": "stdout",
     "output_type": "stream",
     "text": [
      "Enter any number : 97\n",
      "97 is a PRIME number\n"
     ]
    }
   ],
   "source": [
    "num = int(input(\"Enter any number : \"))\n",
    "if num > 1:\n",
    "    for i in range(2, num):\n",
    "        if (num % i) == 0:\n",
    "            print(num, \"is Composite number\")\n",
    "            break\n",
    "    else:\n",
    "        print(num, \"is a PRIME number\")\n",
    "elif num == 0 or 1:\n",
    "    print(num, \"is a neither prime NOR composite number\")\n",
    "else:\n",
    "    print(num, \"is NOT a prime number it is a COMPOSITE number\")"
   ]
  },
  {
   "cell_type": "code",
   "execution_count": 18,
   "id": "e92f6421",
   "metadata": {},
   "outputs": [
    {
     "name": "stdout",
     "output_type": "stream",
     "text": [
      "*\n",
      "**\n",
      "***\n",
      "****\n",
      "*****\n"
     ]
    }
   ],
   "source": [
    "n=5\n",
    "for i in range(1,n+1):\n",
    "    print(\"*\"*i)"
   ]
  },
  {
   "cell_type": "code",
   "execution_count": 20,
   "id": "b463fc80",
   "metadata": {},
   "outputs": [
    {
     "name": "stdout",
     "output_type": "stream",
     "text": [
      "Enter n =2\n",
      "Enter the name of the student: moon\n",
      "Enter marks of maths: 60\n",
      "Enter marks of science: 50\n",
      "Enter marks of nepali: 500\n",
      "Enter marks of english: 90\n",
      "175 %\n",
      "Enter the name of the student: mohini\n",
      "Enter marks of maths: 90\n",
      "Enter marks of science: 90\n",
      "Enter marks of nepali: 90\n",
      "Enter marks of english: 99\n",
      "92 %\n"
     ]
    }
   ],
   "source": [
    "total=0\n",
    "n=int(input(\"Enter n =\"))\n",
    "for i in range(n):\n",
    "    name=(input(\"Enter the name of the student: \"))\n",
    "    m= int(input(\"Enter marks of maths: \"))\n",
    "    s=int(input(\"Enter marks of science: \"))\n",
    "    n=int(input(\"Enter marks of nepali: \"))\n",
    "    e=int(input(\"Enter marks of english: \"))\n",
    "    sum = m+s+n+e\n",
    "    All_total=int(total+sum)\n",
    "    Percentage =int(All_total/4)\n",
    "    print(Percentage,\"%\")  \n",
    "    \n"
   ]
  },
  {
   "cell_type": "code",
   "execution_count": 2,
   "id": "2db12f5e",
   "metadata": {},
   "outputs": [
    {
     "name": "stdout",
     "output_type": "stream",
     "text": [
      "Enter any string: 8uii8\n",
      "uii\n"
     ]
    }
   ],
   "source": [
    "str=\"\"\n",
    "string=(input(\"Enter any string: \"))\n",
    "for i in range(0,len(string)):\n",
    "    if (string[i]>=\"a\" and string[i]<=\"z\"):\n",
    "        str+=string[i]\n",
    "    \n",
    "    \n",
    "    \n",
    "     \n",
    "\n",
    "    \n",
    "print(str)\n",
    "    "
   ]
  },
  {
   "cell_type": "code",
   "execution_count": null,
   "id": "b0551a33",
   "metadata": {},
   "outputs": [],
   "source": []
  },
  {
   "cell_type": "code",
   "execution_count": null,
   "id": "bb771bf7",
   "metadata": {},
   "outputs": [],
   "source": []
  },
  {
   "cell_type": "code",
   "execution_count": null,
   "id": "0d145c00",
   "metadata": {},
   "outputs": [],
   "source": []
  },
  {
   "cell_type": "code",
   "execution_count": null,
   "id": "8e9e891b",
   "metadata": {},
   "outputs": [],
   "source": []
  },
  {
   "cell_type": "code",
   "execution_count": null,
   "id": "0ebb221f",
   "metadata": {},
   "outputs": [],
   "source": []
  }
 ],
 "metadata": {
  "kernelspec": {
   "display_name": "Python 3 (ipykernel)",
   "language": "python",
   "name": "python3"
  },
  "language_info": {
   "codemirror_mode": {
    "name": "ipython",
    "version": 3
   },
   "file_extension": ".py",
   "mimetype": "text/x-python",
   "name": "python",
   "nbconvert_exporter": "python",
   "pygments_lexer": "ipython3",
   "version": "3.9.7"
  }
 },
 "nbformat": 4,
 "nbformat_minor": 5
}
